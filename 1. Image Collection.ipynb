{
 "cells": [
  {
   "cell_type": "markdown",
   "metadata": {},
   "source": [
    "A notebook used to collect images through the user's webcam. And label using [Label Studio](https://labelstud.io).\n",
    "\n",
    "This notebook is inspired by the notebook in this [Github repo](https://github.com/nicknochnack/TFODCourse) by [Nicholas Renotte](https://youtu.be/yqkISICHH-U?list=PLEG-yoFSLEJ7inw5rNtyqaFAlOHkyWU3t)."
   ]
  },
  {
   "cell_type": "markdown",
   "metadata": {},
   "source": [
    "# 1. Import Packages"
   ]
  },
  {
   "cell_type": "code",
   "execution_count": 23,
   "metadata": {},
   "outputs": [],
   "source": [
    "# cv2 is for opencv, which is used for image operations\n",
    "# such as reading and processing images\n",
    "import cv2\n",
    "import os\n",
    "import time\n",
    "import shutil"
   ]
  },
  {
   "cell_type": "markdown",
   "metadata": {},
   "source": [
    "# 2. Define Specifications for Images to Collect"
   ]
  },
  {
   "cell_type": "code",
   "execution_count": 24,
   "metadata": {},
   "outputs": [],
   "source": [
    "# defining the class names for the dataset, \n",
    "# e.g. '5' is for 5 cent coins\n",
    "CLASS_NAMES = ['coin']\n",
    "# define the number of images to be collected for each class\n",
    "IMAGES_PER_CLASS = 30"
   ]
  },
  {
   "cell_type": "markdown",
   "metadata": {},
   "source": [
    "# 3. Setup Folders "
   ]
  },
  {
   "cell_type": "code",
   "execution_count": 25,
   "metadata": {},
   "outputs": [],
   "source": [
    "IMAGE_DIR = os.path.join('Tensorflow', 'workspace', 'images', 'collectedimages')\n",
    "\n",
    "# create the folder to save the images\n",
    "if not os.path.exists(IMAGE_DIR):\n",
    "    os.makedirs(IMAGE_DIR)\n",
    "\n",
    "# create a folder for each class of images\n",
    "# for label in CLASS_NAMES:\n",
    "#     path = os.path.join(IMAGE_DIR, label)\n",
    "#     if not os.path.exists(path):\n",
    "#         os.makedirs(path)"
   ]
  },
  {
   "cell_type": "code",
   "execution_count": 26,
   "metadata": {},
   "outputs": [
    {
     "data": {
      "text/plain": [
       "'Tensorflow\\\\workspace\\\\images\\\\collectedimages'"
      ]
     },
     "execution_count": 26,
     "metadata": {},
     "output_type": "execute_result"
    }
   ],
   "source": [
    "IMAGE_DIR"
   ]
  },
  {
   "cell_type": "markdown",
   "metadata": {},
   "source": [
    "# 3. Collecting images with your phone"
   ]
  },
  {
   "cell_type": "markdown",
   "metadata": {},
   "source": [
    "- Take at least 5 images of each of 5, 10, 20, 50 cent coins, and at least another 5 images of different coins lumped together in one image (like the one shown below)\n",
    "<br><br><img src=\"images/IMG_3566_KEWPYXB.jpg\" width=200></img><br><br>\n",
    "- After taking photos of the coins with your phone, convert them to JPG format online for easy processing if necessary.\n",
    "\n",
    "NOTE: If you are using iPhone, you will face problem with their photos because they are in HEIC format. I recommend using [this website](https://freetoolonline.com/heic-to-jpg.html) to convert all of them into JPG format. Or you can run the two code cells below to convert them programmatically. But you **must** download and install ImageMagick from [this website first](https://imagemagick.org/script/download.php) in order for it to work."
   ]
  },
  {
   "cell_type": "code",
   "execution_count": 5,
   "metadata": {},
   "outputs": [
    {
     "name": "stdout",
     "output_type": "stream",
     "text": [
      "Requirement already satisfied: Wand in c:\\users\\user\\anaconda3\\envs\\tfod\\lib\\site-packages (0.6.6)\n"
     ]
    }
   ],
   "source": [
    "!pip install Wand"
   ]
  },
  {
   "cell_type": "code",
   "execution_count": null,
   "metadata": {},
   "outputs": [],
   "source": [
    "from wand.image import Image\n",
    "import os\n",
    "\n",
    "# ! change these two directories to the folders you're using\n",
    "HEIC_DIR = r\"T:\\New Download Folder\\coin images - phone\\heic\"\n",
    "# ! don't forget to create a new folder to store the newly converted JPG images\n",
    "# and then change this path to the new folder\n",
    "NEW_JPG_DIR = r\"T:\\New Download Folder\\coin images - phone\\jpg\"\n",
    "\n",
    "# ! make sure only HEIC images are in the folder, no other files or folders\n",
    "heic_images = os.listdir(HEIC_DIR)\n",
    "total_images = len(heic_images)\n",
    "\n",
    "for i, img_name in enumerate(heic_images):\n",
    "    print(f\"[INFO] Converting {img_name} ({i+1}/{total_images})\")\n",
    "    SourceFile = os.path.join(HEIC_DIR, img_name)\n",
    "    TargetFile = os.path.join(NEW_JPG_DIR, img_name.replace(\".HEIC\",\".JPG\"))\n",
    "\n",
    "    img = Image(filename=SourceFile)\n",
    "    img.format = 'jpg'\n",
    "    img.save(filename=TargetFile)\n",
    "    img.close()"
   ]
  },
  {
   "cell_type": "markdown",
   "metadata": {},
   "source": [
    "# Or collect from Google Search using a quick method"
   ]
  },
  {
   "cell_type": "markdown",
   "metadata": {},
   "source": [
    "1. Install the [Fatkun Batch Download Image extension](https://chrome.google.com/webstore/detail/fatkun-batch-download-ima/nnjjahlikiabnchcpehcpkdeckfgnohf?hl=en) from Google Chrome.\n",
    "2. Open up a tab and search for the images you want, e.g. cloth face mask\n",
    "3. Then use the extension to download all the images that are found in the Google Search tab. Beware that the more you scroll down, the more images will be downloaded."
   ]
  },
  {
   "cell_type": "markdown",
   "metadata": {},
   "source": [
    "# Check images"
   ]
  },
  {
   "cell_type": "markdown",
   "metadata": {},
   "source": [
    "This code cell below check and verify that the images are usable for loading and training.\n",
    "\n",
    "If you found any errors with any of the images, it's better to just remove them to avoid unnecessary errors."
   ]
  },
  {
   "cell_type": "code",
   "execution_count": 27,
   "metadata": {
    "tags": []
   },
   "outputs": [
    {
     "name": "stdout",
     "output_type": "stream",
     "text": [
      "[INFO] Checking 29 images ...\n",
      "[INFO] All images ok\n"
     ]
    }
   ],
   "source": [
    "from skimage import io\n",
    "from imutils import paths\n",
    "import cv2\n",
    "\n",
    "# NOTE: Change this to your desired path\n",
    "IMAGE_PATH_TO_CHECK = r\"T:\\New Download Folder\\coin-dataset-phone\"\n",
    "image_paths = list(paths.list_images(IMAGE_PATH_TO_CHECK))\n",
    "print(f'[INFO] Checking {len(image_paths)} images ...')\n",
    "cnt = 0\n",
    "for img_path in image_paths:\n",
    "    try:\n",
    "        # To check if the images are viable for training\n",
    "        _ = io.imread(img_path)\n",
    "        img = cv2.imread(img_path)\n",
    "    except Exception as e:\n",
    "        print(e)\n",
    "        print(img_path)\n",
    "        cnt += 1\n",
    "if not cnt:\n",
    "    print(\"[INFO] All images ok\")"
   ]
  },
  {
   "cell_type": "markdown",
   "metadata": {},
   "source": [
    "# 4. Image Labelling"
   ]
  },
  {
   "cell_type": "markdown",
   "metadata": {},
   "source": [
    "1. Open Anaconda prompt and activate your environment with `conda activate tfod`\n",
    "2. Then run Label Studio by entering `label-studio`\n",
    "3. Enter \"n\" if an error about JSON Support appeared\n",
    "4. Create a local account to be used, please do not forget the email and the password\n",
    "5. Click \"Create\" button at top right to create a new project\n",
    "6. Enter a project name such as \"Coin Detection - Phone\" and click the \"Save\" button\n",
    "7. Click the \"Go to import\"\n",
    "8. Go to your phone images folder and drag all the images into Label Studio and click \"Import\"\n",
    "9. Click \"Label All Tasks\" and you will be prompted to set up labelling configuration\n",
    "10. Click \"Go to setup\" > \"Browse Templates\" > \"Computer Vision\" > \"Object Detection with Bounding Boxes\"\n",
    "11. Delete both the existing labels (\"Airplane\" and \"Car\") by clicking the red \"X\" beside them\n",
    "12. Add your label names by typing into the textbox under \"Add label names\" (see example in image below), and click \"Add\" > \"Save\"\n",
    "\n",
    "![add-labelnames](images/add-labelnames.png)\n",
    "\n",
    "13. Now click \"Label all tasks\" and start labeling the bounding boxes! \n",
    "14. Select the **class** such as '5' and draw the box on the coin. See example and best practices below.\n",
    "15. After labelling each image, click the \"Submit\" at the right and continue until the Label Studio says you have finished labeling.\n",
    "16. Finally, click the \"Export\" at the top right and make sure to select \"Pascal VOC XML\" before clicking \"Export\". Then you are done labeling!\n",
    "\n",
    "<img src=\"images/label-example.png\" width=500></img>\n"
   ]
  },
  {
   "cell_type": "markdown",
   "metadata": {},
   "source": [
    "Best practices on how to label images properly:\n",
    "1. Label every object of interest in every image\n",
    "2. Label the entirety of an object **tightly** and not cutting off parts of the object\n",
    "3. Label occluded objects as if they were fully visible\n",
    "4. Create specific label names that are not too general\n",
    "\n",
    "Refer to the [link here](https://blog.roboflow.com/tips-for-how-to-label-images/) for more details.\n",
    "\n"
   ]
  },
  {
   "cell_type": "markdown",
   "metadata": {},
   "source": [
    "Finally, use the code below to copy the files exported from Label Studio, and move them to the desired directory, `IMAGE_DIR`."
   ]
  },
  {
   "cell_type": "code",
   "execution_count": 28,
   "metadata": {},
   "outputs": [
    {
     "data": {
      "text/plain": [
       "'Tensorflow\\\\workspace\\\\images\\\\collectedimages'"
      ]
     },
     "execution_count": 28,
     "metadata": {},
     "output_type": "execute_result"
    }
   ],
   "source": [
    "# ! change this path to your dataset path\n",
    "DATA_PATH = r\"T:\\New Download Folder\\coin-dataset-phone\"\n",
    "if os.path.exists(IMAGE_DIR):\n",
    "    # remove the directory before copying\n",
    "    shutil.rmtree(IMAGE_DIR)\n",
    "shutil.copytree(DATA_PATH, IMAGE_DIR)"
   ]
  },
  {
   "cell_type": "markdown",
   "metadata": {},
   "source": [
    "# 6. Split the dataset and move them into train, valid, and test folders"
   ]
  },
  {
   "cell_type": "markdown",
   "metadata": {},
   "source": [
    "We will split the dataset into training, validation and testing datasets of ratio 80% : 15 % : 5%."
   ]
  },
  {
   "cell_type": "code",
   "execution_count": 29,
   "metadata": {},
   "outputs": [],
   "source": [
    "TEST_SIZE = 0.15\n",
    "TRAIN_SIZE = round(1 - TEST_SIZE, 2)\n",
    "\n",
    "# change this random seed if the split of images is good\n",
    "# i.e. the test set should at least contain one image of multiple coins together\n",
    "RANDOM_SEED = 41"
   ]
  },
  {
   "cell_type": "code",
   "execution_count": 30,
   "metadata": {},
   "outputs": [
    {
     "name": "stdout",
     "output_type": "stream",
     "text": [
      "Total images = 29\n",
      "Splitting into train:test dataset with ratio of 0.85:0.15\n",
      "Total training images = 24\n",
      "Total testing images = 5\n"
     ]
    }
   ],
   "source": [
    "from sklearn.model_selection import train_test_split\n",
    "from imutils import paths\n",
    "\n",
    "# get the image paths and sort them\n",
    "image_paths = sorted(paths.list_images(os.path.join(IMAGE_DIR, \"images\")))\n",
    "print(f\"Total images = {len(image_paths)}\")\n",
    "\n",
    "# directory to annotation folder, only change this path when necessary\n",
    "ANNOTATION_DIR = os.path.join(IMAGE_DIR, \"Annotations\")\n",
    "# get the label paths and sort them to align with image paths\n",
    "label_paths = sorted(os.listdir(ANNOTATION_DIR))\n",
    "# append the directory at the front of the folder for full paths\n",
    "label_paths = [os.path.join(ANNOTATION_DIR, i) for i in label_paths]\n",
    "\n",
    "# split the dataset into ratio of train:test of 85%: 15%\n",
    "print(\"Splitting into train:test dataset\"\n",
    "    f\" with ratio of {TRAIN_SIZE:.2f}:{TEST_SIZE:.2f}\")\n",
    "X_train, X_test, y_train, y_test = train_test_split(\n",
    "    image_paths, label_paths, test_size=TEST_SIZE, random_state=RANDOM_SEED\n",
    ")\n",
    "print(f\"Total training images = {len(X_train)}\")\n",
    "print(f\"Total testing images = {len(X_test)}\")"
   ]
  },
  {
   "cell_type": "code",
   "execution_count": 31,
   "metadata": {},
   "outputs": [
    {
     "name": "stdout",
     "output_type": "stream",
     "text": [
      "[INFO] Copying files from Tensorflow\\workspace\\images\\collectedimages to Tensorflow\\workspace\\images\\train\n",
      "[INFO] Copying files from Tensorflow\\workspace\\images\\collectedimages to Tensorflow\\workspace\\images\\test\n",
      "[INFO] Files copied successfully.\n"
     ]
    }
   ],
   "source": [
    "SPLIT_IMAGE_DIR = os.path.join('Tensorflow', 'workspace', 'images')\n",
    "\n",
    "def copy_images(image_paths, label_paths, data_type):\n",
    "    assert data_type in (\"train\", \"valid\", \"test\")\n",
    "    image_dest = os.path.join(SPLIT_IMAGE_DIR, data_type)\n",
    "\n",
    "    print(f\"[INFO] Copying files from {IMAGE_DIR} to {image_dest}\")\n",
    "    if os.path.exists(image_dest):\n",
    "        # remove the existing images\n",
    "        shutil.rmtree(image_dest, ignore_errors=False)\n",
    "    \n",
    "    if not os.path.exists(image_dest):\n",
    "        # create new directories\n",
    "        os.makedirs(image_dest)\n",
    "\n",
    "    for image_path, label_path in zip(image_paths, label_paths):\n",
    "        # copy the image file and label file to the new directory\n",
    "        shutil.copy2(image_path, image_dest)\n",
    "        shutil.copy2(label_path, image_dest)\n",
    "\n",
    "copy_images(X_train, y_train, \"train\")\n",
    "copy_images(X_test, y_test, \"test\")\n",
    "print(\"[INFO] Files copied successfully.\")"
   ]
  },
  {
   "cell_type": "markdown",
   "metadata": {},
   "source": [
    "# OPTIONAL - 7. Compress them for Colab Training"
   ]
  },
  {
   "cell_type": "code",
   "execution_count": 12,
   "metadata": {},
   "outputs": [
    {
     "name": "stdout",
     "output_type": "stream",
     "text": [
      "File saved at Tensorflow\\workspace\\images\\archive.tar.gz\n"
     ]
    }
   ],
   "source": [
    "ARCHIVE_PATH = os.path.join('Tensorflow', 'workspace', 'images', 'archive.tar.gz')\n",
    "\n",
    "SPLIT_IMAGE_DIR = os.path.join('Tensorflow', 'workspace', 'images')\n",
    "TRAIN_PATH = os.path.join(SPLIT_IMAGE_DIR, \"train\")\n",
    "TEST_PATH = os.path.join(SPLIT_IMAGE_DIR, \"test\")\n",
    "\n",
    "# add the training and testing datasets to a tar file\n",
    "!tar -czf {ARCHIVE_PATH} {TRAIN_PATH} {TEST_PATH}\n",
    "print(f\"File saved at {ARCHIVE_PATH}\")"
   ]
  },
  {
   "cell_type": "markdown",
   "metadata": {},
   "source": [
    "This tar file is used to upload to Google Colab to use for training."
   ]
  },
  {
   "cell_type": "code",
   "execution_count": null,
   "metadata": {},
   "outputs": [],
   "source": []
  }
 ],
 "metadata": {
  "interpreter": {
   "hash": "8ece60ddf05e2bb1a3a95dc6d6135ea35551fa72f2095c0fd3feb56b01070d12"
  },
  "kernelspec": {
   "display_name": "Python 3",
   "language": "python",
   "name": "python3"
  },
  "language_info": {
   "codemirror_mode": {
    "name": "ipython",
    "version": 3
   },
   "file_extension": ".py",
   "mimetype": "text/x-python",
   "name": "python",
   "nbconvert_exporter": "python",
   "pygments_lexer": "ipython3",
   "version": "3.8.11"
  }
 },
 "nbformat": 4,
 "nbformat_minor": 4
}
