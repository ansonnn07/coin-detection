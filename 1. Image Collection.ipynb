{
 "cells": [
  {
   "cell_type": "markdown",
   "source": [
    "A notebook used to collect images through the user's webcam. And label using [Label Studio](https://labelstud.io).\r\n",
    "\r\n",
    "This notebook is inspired by the notebook in this [Github repo](https://github.com/nicknochnack/TFODCourse) by [Nicholas Renotte](https://youtu.be/yqkISICHH-U?list=PLEG-yoFSLEJ7inw5rNtyqaFAlOHkyWU3t)."
   ],
   "metadata": {}
  },
  {
   "cell_type": "markdown",
   "source": [
    "# 1. Import Packages"
   ],
   "metadata": {}
  },
  {
   "cell_type": "code",
   "execution_count": 1,
   "source": [
    "# cv2 is for opencv, which is used for image operations\r\n",
    "# such as reading and processing images\r\n",
    "import cv2\r\n",
    "import uuid\r\n",
    "import os\r\n",
    "import time\r\n",
    "import yaml"
   ],
   "outputs": [],
   "metadata": {}
  },
  {
   "cell_type": "code",
   "execution_count": 2,
   "source": [
    "# uuid is to generate filename later\r\n",
    "str(uuid.uuid1())"
   ],
   "outputs": [
    {
     "output_type": "execute_result",
     "data": {
      "text/plain": [
       "'752daa19-f9cd-11eb-9999-1cbfce4b3bed'"
      ]
     },
     "metadata": {},
     "execution_count": 2
    }
   ],
   "metadata": {}
  },
  {
   "cell_type": "markdown",
   "source": [
    "# 2. Define Specifications for Images to Collect"
   ],
   "metadata": {}
  },
  {
   "cell_type": "code",
   "execution_count": 3,
   "source": [
    "# defining the class names for the dataset, \r\n",
    "# e.g. '5' is for 5 cent coins\r\n",
    "CLASS_NAMES = ['5', '10', '20', '50']\r\n",
    "# define the number of images to be collected for each class\r\n",
    "IMAGES_PER_CLASS = 10"
   ],
   "outputs": [],
   "metadata": {}
  },
  {
   "cell_type": "markdown",
   "source": [
    "# 3. Setup Folders "
   ],
   "metadata": {}
  },
  {
   "cell_type": "code",
   "execution_count": 4,
   "source": [
    "IMAGE_DIR = os.path.join('Tensorflow', 'workspace', 'images', 'collectedimages')\r\n",
    "\r\n",
    "# create the folder to save the images\r\n",
    "if not os.path.exists(IMAGE_DIR):\r\n",
    "    os.makedirs(IMAGE_DIR)\r\n",
    "\r\n",
    "# create a folder for each class of images\r\n",
    "# for label in CLASS_NAMES:\r\n",
    "#     path = os.path.join(IMAGE_DIR, label)\r\n",
    "#     if not os.path.exists(path):\r\n",
    "#         os.makedirs(path)"
   ],
   "outputs": [],
   "metadata": {}
  },
  {
   "cell_type": "code",
   "execution_count": 5,
   "source": [
    "IMAGE_DIR"
   ],
   "outputs": [
    {
     "output_type": "execute_result",
     "data": {
      "text/plain": [
       "'Tensorflow\\\\workspace\\\\images\\\\collectedimages'"
      ]
     },
     "metadata": {},
     "execution_count": 5
    }
   ],
   "metadata": {}
  },
  {
   "cell_type": "markdown",
   "source": [
    "# 3. Collecting images with your phone"
   ],
   "metadata": {}
  },
  {
   "cell_type": "markdown",
   "source": [
    "After taking photos of the coins with your phone, convert them to JPG format online for easy processing if necessary.\r\n",
    "\r\n",
    "NOTE: If you are using iPhone, you will face problem with their images because they are in HEIC format. I recommend using [this website](https://freetoolonline.com/heic-to-jpg.html) to convert all of them into JPG format."
   ],
   "metadata": {}
  },
  {
   "cell_type": "markdown",
   "source": [
    "# 4. Image Labelling"
   ],
   "metadata": {}
  },
  {
   "cell_type": "markdown",
   "source": [
    "1. Open Anaconda prompt and activate your environment with `conda activate tfod`\r\n",
    "2. Then run Label Studio by entering `label-studio`\r\n",
    "3. Enter \"n\" if an error about JSON Support appeared\r\n",
    "4. Create a local account to be used, please do not forget the email and the password\r\n",
    "5. Click \"Create\" button at top right to create a new project\r\n",
    "6. Enter a project name such as \"Coin Detection - Phone\" and click the \"Save\" button\r\n",
    "7. Click the \"Go to import\"\r\n",
    "8. Go to your phone images folder and drag all the images into Label Studio and click \"Import\"\r\n",
    "9. Click \"Label All Tasks\" and you will be prompted to set up labelling configuration\r\n",
    "10. Click \"Go to setup\" > \"Browse Templates\" > \"Computer Vision\" > \"Object Detection with Bounding Boxes\"\r\n",
    "11. Delete both the existing labels (\"Airplane\" and \"Car\") by clicking the red \"X\" beside them\r\n",
    "12. Add your label names by typing into the textbox under \"Add label names\" (see example in image below), and click \"Add\" > \"Save\"\r\n",
    "\r\n",
    "![add-labelnames](images/add-labelnames.png)\r\n",
    "\r\n",
    "13. Now click \"Label all tasks\" and start labeling the bounding boxes! \r\n",
    "14. Select the **class** such as '5' and draw the box on the coin. See example below.\r\n",
    "15. After labelling each image, click the \"Submit\" at the right and continue until the Label Studio says you have finished labeling.\r\n",
    "16. Finally, click the \"Export\" at the top right and make sure to select \"Pascal VOC XML\" before clicking \"Export\". Then you are done labeling!\r\n",
    "\r\n",
    "![label-example](images/label-example.png)\r\n"
   ],
   "metadata": {}
  },
  {
   "cell_type": "markdown",
   "source": [
    "Best practices on how to label images properly:\r\n",
    "1. Label every object of interest in every image\r\n",
    "2. Label the entirety of an object **tightly** and not cutting off parts of the object\r\n",
    "3. Label occluded objects as if they were fully visible\r\n",
    "4. Create specific label names that are not too general\r\n",
    "\r\n",
    "Refer to the [link here](https://blog.roboflow.com/tips-for-how-to-label-images/) for more details.\r\n",
    "\r\n"
   ],
   "metadata": {}
  },
  {
   "cell_type": "markdown",
   "source": [
    "Finally, use the code below to extract the zip file exported from Label Studio, and move them to the desired directory, `IMAGE_DIR`."
   ],
   "metadata": {}
  },
  {
   "cell_type": "code",
   "execution_count": 52,
   "source": [
    "ANNOTATION_ZIP = r\"T:\\New Download Folder\\project-5-at-2021-08-10-22-05-2bb3399d.zip\"\r\n",
    "\r\n",
    "from zipfile import ZipFile\r\n",
    "\r\n",
    "with ZipFile(ANNOTATION_ZIP, 'r') as zipObj:\r\n",
    "   # Extract all the contents of zip file to the IMAGE_DIR\r\n",
    "   zipObj.extractall(IMAGE_DIR)"
   ],
   "outputs": [],
   "metadata": {}
  },
  {
   "cell_type": "markdown",
   "source": [
    "# 6. Split the dataset and move them into train, valid, and test folders"
   ],
   "metadata": {}
  },
  {
   "cell_type": "markdown",
   "source": [
    "We will split the dataset into training, validation and testing datasets of ratio 80% : 15 % : 5%."
   ],
   "metadata": {}
  },
  {
   "cell_type": "code",
   "execution_count": 46,
   "source": [
    "TEST_SIZE = 0.15\r\n",
    "TRAIN_SIZE = round(1 - TEST_SIZE, 2)\r\n",
    "\r\n",
    "# change this random seed if the split of images is good\r\n",
    "# i.e. the test set should at least contain one image of multiple coins together\r\n",
    "RANDOM_SEED = 41"
   ],
   "outputs": [],
   "metadata": {}
  },
  {
   "cell_type": "code",
   "execution_count": 54,
   "source": [
    "from sklearn.model_selection import train_test_split\r\n",
    "\r\n",
    "# get the image paths and sort them\r\n",
    "image_paths = sorted(paths.list_images(os.path.join(IMAGE_DIR, \"images\")))\r\n",
    "print(f\"Total images = {len(image_paths)}\")\r\n",
    "\r\n",
    "# directory to annotation folder, don't need to change this\r\n",
    "ANNOTATION_DIR = os.path.join(IMAGE_DIR, \"Annotations\")\r\n",
    "# get the label paths and sort them to align with image paths\r\n",
    "label_paths = sorted(os.listdir(ANNOTATION_DIR))\r\n",
    "# append the directory at the front of the folder for full paths\r\n",
    "label_paths = [os.path.join(ANNOTATION_DIR, i) for i in label_paths]\r\n",
    "\r\n",
    "# split the dataset into ratio of train:test of 85%: 15%\r\n",
    "print(\"Splitting into train:test dataset\"\r\n",
    "    f\" with ratio of {TRAIN_SIZE:.2f}:{TEST_SIZE:.2f}\")\r\n",
    "X_train, X_test, y_train, y_test = train_test_split(\r\n",
    "    image_paths, label_paths, test_size=TEST_SIZE, random_state=RANDOM_SEED\r\n",
    ")\r\n",
    "print(f\"Total training images = {len(X_train)}\")\r\n",
    "print(f\"Total testing images = {len(test_paths)}\")"
   ],
   "outputs": [
    {
     "output_type": "stream",
     "name": "stdout",
     "text": [
      "Total images = 29\n",
      "Splitting into train:test dataset with ratio of 0.85:0.15\n",
      "Total training images = 24\n",
      "Total testing images = 5\n"
     ]
    }
   ],
   "metadata": {}
  },
  {
   "cell_type": "code",
   "execution_count": 56,
   "source": [
    "SPLIT_IMAGE_DIR = os.path.join('Tensorflow', 'workspace', 'images')\r\n",
    "\r\n",
    "def copy_images(image_paths, label_paths, data_type):\r\n",
    "    assert data_type in (\"train\", \"valid\", \"test\")\r\n",
    "    image_dest = os.path.join(SPLIT_IMAGE_DIR, data_type)\r\n",
    "\r\n",
    "    print(f\"[INFO] Copying files from {IMAGE_DIR} to {image_dest}\")\r\n",
    "    if os.path.exists(image_dest):\r\n",
    "        # remove the existing images\r\n",
    "        shutil.rmtree(image_dest, ignore_errors=False)\r\n",
    "    \r\n",
    "    if not os.path.exists(image_dest):\r\n",
    "        # create new directories\r\n",
    "        os.makedirs(image_dest)\r\n",
    "\r\n",
    "    for image_path, label_path in zip(image_paths, label_paths):\r\n",
    "        # copy the image file to the new directory\r\n",
    "        shutil.copy2(image_path, image_dest)\r\n",
    "        shutil.copy2(label_path, image_dest)\r\n",
    "\r\n",
    "copy_images(X_train, y_train, \"train\")\r\n",
    "copy_images(X_test, y_test, \"test\")\r\n",
    "print(\"[INFO] Files copied successfully.\")"
   ],
   "outputs": [
    {
     "output_type": "stream",
     "name": "stdout",
     "text": [
      "[INFO] Copying files from Tensorflow\\workspace\\images\\collectedimages to Tensorflow\\workspace\\images\\train\n",
      "[INFO] Copying files from Tensorflow\\workspace\\images\\collectedimages to Tensorflow\\workspace\\images\\test\n",
      "[INFO] Files copied successfully.\n"
     ]
    }
   ],
   "metadata": {}
  },
  {
   "cell_type": "markdown",
   "source": [
    "# OPTIONAL - 7. Compress them for Colab Training"
   ],
   "metadata": {}
  },
  {
   "cell_type": "code",
   "execution_count": null,
   "source": [
    "ARCHIVE_PATH = os.path.join('Tensorflow', 'workspace', 'images', 'archive.tar.gz')"
   ],
   "outputs": [],
   "metadata": {}
  },
  {
   "cell_type": "code",
   "execution_count": null,
   "source": [
    "!tar -czf {ARCHIVE_PATH} {TRAIN_PATH} {TEST_PATH}"
   ],
   "outputs": [],
   "metadata": {}
  },
  {
   "cell_type": "code",
   "execution_count": null,
   "source": [],
   "outputs": [],
   "metadata": {}
  }
 ],
 "metadata": {
  "kernelspec": {
   "name": "python3",
   "display_name": "Python 3.8.11 64-bit ('tfod': conda)"
  },
  "language_info": {
   "codemirror_mode": {
    "name": "ipython",
    "version": 3
   },
   "file_extension": ".py",
   "mimetype": "text/x-python",
   "name": "python",
   "nbconvert_exporter": "python",
   "pygments_lexer": "ipython3",
   "version": "3.8.11"
  },
  "interpreter": {
   "hash": "8ece60ddf05e2bb1a3a95dc6d6135ea35551fa72f2095c0fd3feb56b01070d12"
  }
 },
 "nbformat": 4,
 "nbformat_minor": 2
}