{
 "cells": [
  {
   "cell_type": "markdown",
   "id": "061cf4cd-80a6-4fc0-9e75-30c720c7b7ba",
   "metadata": {},
   "source": [
    "Refer https://www.geeksforgeeks.org/modify-xml-files-with-python/"
   ]
  },
  {
   "cell_type": "code",
   "execution_count": 18,
   "id": "d7e2460a-8379-4069-b10c-9e1a119897a7",
   "metadata": {},
   "outputs": [
    {
     "data": {
      "text/plain": [
       "True"
      ]
     },
     "execution_count": 18,
     "metadata": {},
     "output_type": "execute_result"
    }
   ],
   "source": [
    "import os\n",
    "\n",
    "XML_DIR = r\"C:\\Users\\user\\Desktop\\ANSON\\Python Scripts\\coin_detection\\Tensorflow\\workspace\\images\\collectedimages\\Annotations\"\n",
    "os.path.exists(XML_DIR)"
   ]
  },
  {
   "cell_type": "code",
   "execution_count": 19,
   "id": "8f7609e1-dca6-45f8-bbf2-b1306dfbdadc",
   "metadata": {},
   "outputs": [],
   "source": [
    "import glob\n",
    "\n",
    "XML_PATHS = list(glob.glob(XML_DIR + '/*.xml'))"
   ]
  },
  {
   "cell_type": "code",
   "execution_count": 20,
   "id": "aded3b04-a8fe-45e9-9132-2eb778ce15b4",
   "metadata": {},
   "outputs": [
    {
     "name": "stdout",
     "output_type": "stream",
     "text": [
      "<annotation>\n",
      "<folder>images</folder>\n",
      "<filename>IMG_3565_AILJ0cT</filename>\n",
      "<source>\n",
      "<database>MyDatabase</database>\n",
      "<annotation>COCO2017</annotation>\n",
      "<image>flickr</image>\n",
      "<flickrid>NULL</flickrid>\n",
      "<annotator>roxastan@hotmail.com</annotator>\n",
      "</source>\n",
      "<owner>\n",
      "<flickrid>NULL</flickrid>\n",
      "<name>Label Studio</name>\n",
      "</owner>\n",
      "<size>\n",
      "<width>3024</width>\n",
      "<height>4032</height>\n",
      "<depth>3</depth>\n",
      "</size>\n",
      "<segmented>0</segmented>\n",
      "<object>\n",
      "<name>coin</name>\n",
      "<pose>Unspecified</pose>\n",
      "<truncated>0</truncated>\n",
      "<difficult>0</difficult>\n",
      "<bndbox>\n",
      "<xmin>1298</xmin>\n",
      "<ymin>1858</ymin>\n",
      "<xmax>1922</xmax>\n",
      "<ymax>2458</ymax>\n",
      "</bndbox>\n",
      "</object>\n",
      "</annotation>\n"
     ]
    }
   ],
   "source": [
    "# TEST ON SINGLE FILE\n",
    "\n",
    "# importing element tree\n",
    "# under the alias of ET\n",
    "import xml.etree.ElementTree as ET\n",
    "\n",
    "xml_file = XML_PATHS[0]\n",
    "# Passing the path of the\n",
    "# xml document to enable the\n",
    "# parsing process\n",
    "tree = ET.parse(xml_file)\n",
    "root = tree.getroot()\n",
    "\n",
    "for member in root.findall(\"object\"):\n",
    "    member[0].text = 'coin'\n",
    "tree.write('test_xml.xml')\n",
    "\n",
    "with open('test_xml.xml') as f:\n",
    "    print(f.read())\n",
    "os.remove('test_xml.xml')"
   ]
  },
  {
   "cell_type": "code",
   "execution_count": 23,
   "id": "d110f7f2-4244-46eb-be98-d440b9581318",
   "metadata": {},
   "outputs": [
    {
     "name": "stdout",
     "output_type": "stream",
     "text": [
      "[INFO] Changed all.\n"
     ]
    }
   ],
   "source": [
    "for xml_file in XML_PATHS:\n",
    "    # Passing the path of the\n",
    "    # xml document to enable the\n",
    "    # parsing process\n",
    "    tree = ET.parse(xml_file)\n",
    "    root = tree.getroot()\n",
    "\n",
    "    for member in root.findall(\"object\"):\n",
    "        member[0].text = 'coin'\n",
    "    tree.write(xml_file)\n",
    "print(\"[INFO] Changed all.\")"
   ]
  },
  {
   "cell_type": "code",
   "execution_count": null,
   "id": "0478e733-d7ee-4567-802b-81452dd0b3de",
   "metadata": {},
   "outputs": [],
   "source": []
  }
 ],
 "metadata": {
  "kernelspec": {
   "display_name": "tfod",
   "language": "python",
   "name": "tfod"
  },
  "language_info": {
   "codemirror_mode": {
    "name": "ipython",
    "version": 3
   },
   "file_extension": ".py",
   "mimetype": "text/x-python",
   "name": "python",
   "nbconvert_exporter": "python",
   "pygments_lexer": "ipython3",
   "version": "3.8.11"
  }
 },
 "nbformat": 4,
 "nbformat_minor": 5
}
