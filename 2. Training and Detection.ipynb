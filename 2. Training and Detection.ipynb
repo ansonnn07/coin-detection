{
 "cells": [
  {
   "cell_type": "markdown",
   "source": [
    "This notebook is heavily inspired by the notebook in this [Github repo](https://github.com/nicknochnack/TFODCourse) by [Nicholas Renotte](https://youtu.be/yqkISICHH-U?list=PLEG-yoFSLEJ7inw5rNtyqaFAlOHkyWU3t)."
   ],
   "metadata": {}
  },
  {
   "cell_type": "markdown",
   "source": [
    "# Install TFOD (only need to install once in a virtual environment)"
   ],
   "metadata": {}
  },
  {
   "cell_type": "code",
   "execution_count": 1,
   "source": [
    "import os"
   ],
   "outputs": [],
   "metadata": {}
  },
  {
   "cell_type": "code",
   "execution_count": 8,
   "source": [
    "if not os.path.exists(os.path.join(paths['APIMODEL_PATH'], 'research', 'object_detection')):\r\n",
    "    # clone the TensorFlow Model Garden repo to use it for TFOD API installation\r\n",
    "    !git clone https://github.com/tensorflow/models {paths['APIMODEL_PATH']}"
   ],
   "outputs": [],
   "metadata": {
    "id": "iA1DIq5OpfDE"
   }
  },
  {
   "cell_type": "code",
   "execution_count": null,
   "source": [
    "# Install Tensorflow Object Detection and dependencies such as protobuf and protoc (for Windows)\r\n",
    "\r\n",
    "if os.name == 'posix':\r\n",
    "    # 'posix' is for Linux (also to use in Colab Notebook)\r\n",
    "    !apt-get install protobuf-compiler\r\n",
    "    !cd Tensorflow/models/research && protoc object_detection/protos/*.proto --python_out=. && cp object_detection/packages/tf2/setup.py . && python -m pip install . \r\n",
    "    \r\n",
    "if os.name == 'nt':\r\n",
    "    # 'nt' is for Windows\r\n",
    "    print(\"[INFO] Downloading protobuf dependencies ...\")\r\n",
    "    url=\"https://github.com/protocolbuffers/protobuf/releases/download/v3.15.6/protoc-3.15.6-win64.zip\"\r\n",
    "    wget.download(url)\r\n",
    "    # move the protoc zip file into the desired path, PROTOC_PATH\r\n",
    "    !move protoc-3.15.6-win64.zip {paths['PROTOC_PATH']}\r\n",
    "    # unzip the zip file\r\n",
    "    !cd {paths['PROTOC_PATH']} && tar -xf protoc-3.15.6-win64.zip\r\n",
    "    # add the path of $PROTOC_PATH/bin into the PATH in environment variable\r\n",
    "    # to be able to run `protoc` as a command in terminal\r\n",
    "    os.environ['PATH'] += os.pathsep + os.path.abspath(os.path.join(paths['PROTOC_PATH'], 'bin'))   \r\n",
    "    # run the `protoc` command and install all the dependencies for TFOD API\r\n",
    "    !cd Tensorflow/models/research && protoc object_detection/protos/*.proto --python_out=. && copy object_detection\\\\packages\\\\tf2\\\\setup.py setup.py && python setup.py build && python setup.py install\r\n",
    "    !cd Tensorflow/models/research/slim && pip install -e . "
   ],
   "outputs": [],
   "metadata": {
    "id": "rJjMHbnDs3Tv"
   }
  },
  {
   "cell_type": "code",
   "execution_count": 10,
   "source": [
    "VERIFICATION_SCRIPT = os.path.join(paths['APIMODEL_PATH'], 'research', 'object_detection', 'builders', 'model_builder_tf2_test.py')\r\n",
    "# Verify all the installation above works for TFOD API\r\n",
    "!python {VERIFICATION_SCRIPT}"
   ],
   "outputs": [
    {
     "output_type": "stream",
     "name": "stderr",
     "text": [
      "2021-08-11 15:33:02.964732: I tensorflow/stream_executor/platform/default/dso_loader.cc:53] Successfully opened dynamic library cudart64_110.dll\n",
      "Running tests under Python 3.8.11: C:\\Users\\user\\anaconda3\\envs\\tfod\\python.exe\n",
      "[ RUN      ] ModelBuilderTF2Test.test_create_center_net_deepmac\n",
      "2021-08-11 15:33:07.052802: I tensorflow/stream_executor/platform/default/dso_loader.cc:53] Successfully opened dynamic library nvcuda.dll\n",
      "2021-08-11 15:33:07.072630: I tensorflow/core/common_runtime/gpu/gpu_device.cc:1733] Found device 0 with properties: \n",
      "pciBusID: 0000:01:00.0 name: NVIDIA GeForce GTX 1060 6GB computeCapability: 6.1\n",
      "coreClock: 1.8475GHz coreCount: 10 deviceMemorySize: 6.00GiB deviceMemoryBandwidth: 178.99GiB/s\n",
      "2021-08-11 15:33:07.073065: I tensorflow/stream_executor/platform/default/dso_loader.cc:53] Successfully opened dynamic library cudart64_110.dll\n",
      "2021-08-11 15:33:07.077667: I tensorflow/stream_executor/platform/default/dso_loader.cc:53] Successfully opened dynamic library cublas64_11.dll\n",
      "2021-08-11 15:33:07.077908: I tensorflow/stream_executor/platform/default/dso_loader.cc:53] Successfully opened dynamic library cublasLt64_11.dll\n",
      "2021-08-11 15:33:07.080679: I tensorflow/stream_executor/platform/default/dso_loader.cc:53] Successfully opened dynamic library cufft64_10.dll\n",
      "2021-08-11 15:33:07.081789: I tensorflow/stream_executor/platform/default/dso_loader.cc:53] Successfully opened dynamic library curand64_10.dll\n",
      "2021-08-11 15:33:07.086705: I tensorflow/stream_executor/platform/default/dso_loader.cc:53] Successfully opened dynamic library cusolver64_11.dll\n",
      "2021-08-11 15:33:07.088516: I tensorflow/stream_executor/platform/default/dso_loader.cc:53] Successfully opened dynamic library cusparse64_11.dll\n",
      "2021-08-11 15:33:07.089471: I tensorflow/stream_executor/platform/default/dso_loader.cc:53] Successfully opened dynamic library cudnn64_8.dll\n",
      "2021-08-11 15:33:07.089744: I tensorflow/core/common_runtime/gpu/gpu_device.cc:1871] Adding visible gpu devices: 0\n",
      "2021-08-11 15:33:07.095988: I tensorflow/core/platform/cpu_feature_guard.cc:142] This TensorFlow binary is optimized with oneAPI Deep Neural Network Library (oneDNN) to use the following CPU instructions in performance-critical operations:  AVX AVX2\n",
      "To enable them in other operations, rebuild TensorFlow with the appropriate compiler flags.\n",
      "2021-08-11 15:33:07.099022: I tensorflow/core/common_runtime/gpu/gpu_device.cc:1733] Found device 0 with properties: \n",
      "pciBusID: 0000:01:00.0 name: NVIDIA GeForce GTX 1060 6GB computeCapability: 6.1\n",
      "coreClock: 1.8475GHz coreCount: 10 deviceMemorySize: 6.00GiB deviceMemoryBandwidth: 178.99GiB/s\n",
      "2021-08-11 15:33:07.099449: I tensorflow/core/common_runtime/gpu/gpu_device.cc:1871] Adding visible gpu devices: 0\n",
      "2021-08-11 15:33:08.500691: I tensorflow/core/common_runtime/gpu/gpu_device.cc:1258] Device interconnect StreamExecutor with strength 1 edge matrix:\n",
      "2021-08-11 15:33:08.500917: I tensorflow/core/common_runtime/gpu/gpu_device.cc:1264]      0 \n",
      "2021-08-11 15:33:08.501040: I tensorflow/core/common_runtime/gpu/gpu_device.cc:1277] 0:   N \n",
      "2021-08-11 15:33:08.506240: I tensorflow/core/common_runtime/gpu/gpu_device.cc:1418] Created TensorFlow device (/job:localhost/replica:0/task:0/device:GPU:0 with 4624 MB memory) -> physical GPU (device: 0, name: NVIDIA GeForce GTX 1060 6GB, pci bus id: 0000:01:00.0, compute capability: 6.1)\n",
      "C:\\Users\\user\\anaconda3\\envs\\tfod\\lib\\site-packages\\object_detection-0.1-py3.8.egg\\object_detection\\builders\\model_builder.py:1088: DeprecationWarning: The 'warn' function is deprecated, use 'warning' instead\n",
      "  logging.warn(('Building experimental DeepMAC meta-arch.'\n",
      "W0811 15:33:09.160261 20736 model_builder.py:1088] Building experimental DeepMAC meta-arch. Some features may be omitted.\n",
      "INFO:tensorflow:time(__main__.ModelBuilderTF2Test.test_create_center_net_deepmac): 2.37s\n",
      "I0811 15:33:09.397950 20736 test_util.py:2102] time(__main__.ModelBuilderTF2Test.test_create_center_net_deepmac): 2.37s\n",
      "[       OK ] ModelBuilderTF2Test.test_create_center_net_deepmac\n",
      "[ RUN      ] ModelBuilderTF2Test.test_create_center_net_model0 (customize_head_params=True)\n",
      "INFO:tensorflow:time(__main__.ModelBuilderTF2Test.test_create_center_net_model0 (customize_head_params=True)): 0.87s\n",
      "I0811 15:33:10.272831 20736 test_util.py:2102] time(__main__.ModelBuilderTF2Test.test_create_center_net_model0 (customize_head_params=True)): 0.87s\n",
      "[       OK ] ModelBuilderTF2Test.test_create_center_net_model0 (customize_head_params=True)\n",
      "[ RUN      ] ModelBuilderTF2Test.test_create_center_net_model1 (customize_head_params=False)\n",
      "INFO:tensorflow:time(__main__.ModelBuilderTF2Test.test_create_center_net_model1 (customize_head_params=False)): 0.22s\n",
      "I0811 15:33:10.497802 20736 test_util.py:2102] time(__main__.ModelBuilderTF2Test.test_create_center_net_model1 (customize_head_params=False)): 0.22s\n",
      "[       OK ] ModelBuilderTF2Test.test_create_center_net_model1 (customize_head_params=False)\n",
      "[ RUN      ] ModelBuilderTF2Test.test_create_center_net_model_from_keypoints\n",
      "INFO:tensorflow:time(__main__.ModelBuilderTF2Test.test_create_center_net_model_from_keypoints): 0.28s\n",
      "I0811 15:33:10.777332 20736 test_util.py:2102] time(__main__.ModelBuilderTF2Test.test_create_center_net_model_from_keypoints): 0.28s\n",
      "[       OK ] ModelBuilderTF2Test.test_create_center_net_model_from_keypoints\n",
      "[ RUN      ] ModelBuilderTF2Test.test_create_center_net_model_mobilenet\n",
      "WARNING:tensorflow:`input_shape` is undefined or non-square, or `rows` is not in [96, 128, 160, 192, 224]. Weights for input shape (224, 224) will be loaded as the default.\n",
      "W0811 15:33:10.780833 20736 mobilenet_v2.py:296] `input_shape` is undefined or non-square, or `rows` is not in [96, 128, 160, 192, 224]. Weights for input shape (224, 224) will be loaded as the default.\n",
      "INFO:tensorflow:time(__main__.ModelBuilderTF2Test.test_create_center_net_model_mobilenet): 1.53s\n",
      "I0811 15:33:12.306014 20736 test_util.py:2102] time(__main__.ModelBuilderTF2Test.test_create_center_net_model_mobilenet): 1.53s\n",
      "[       OK ] ModelBuilderTF2Test.test_create_center_net_model_mobilenet\n",
      "[ RUN      ] ModelBuilderTF2Test.test_create_experimental_model\n",
      "INFO:tensorflow:time(__main__.ModelBuilderTF2Test.test_create_experimental_model): 0.0s\n",
      "I0811 15:33:12.307712 20736 test_util.py:2102] time(__main__.ModelBuilderTF2Test.test_create_experimental_model): 0.0s\n",
      "[       OK ] ModelBuilderTF2Test.test_create_experimental_model\n",
      "[ RUN      ] ModelBuilderTF2Test.test_create_faster_rcnn_from_config_with_crop_feature0 (True)\n",
      "INFO:tensorflow:time(__main__.ModelBuilderTF2Test.test_create_faster_rcnn_from_config_with_crop_feature0 (True)): 0.02s\n",
      "I0811 15:33:12.323682 20736 test_util.py:2102] time(__main__.ModelBuilderTF2Test.test_create_faster_rcnn_from_config_with_crop_feature0 (True)): 0.02s\n",
      "[       OK ] ModelBuilderTF2Test.test_create_faster_rcnn_from_config_with_crop_feature0 (True)\n",
      "[ RUN      ] ModelBuilderTF2Test.test_create_faster_rcnn_from_config_with_crop_feature1 (False)\n",
      "INFO:tensorflow:time(__main__.ModelBuilderTF2Test.test_create_faster_rcnn_from_config_with_crop_feature1 (False)): 0.01s\n",
      "I0811 15:33:12.336182 20736 test_util.py:2102] time(__main__.ModelBuilderTF2Test.test_create_faster_rcnn_from_config_with_crop_feature1 (False)): 0.01s\n",
      "[       OK ] ModelBuilderTF2Test.test_create_faster_rcnn_from_config_with_crop_feature1 (False)\n",
      "[ RUN      ] ModelBuilderTF2Test.test_create_faster_rcnn_model_from_config_with_example_miner\n",
      "INFO:tensorflow:time(__main__.ModelBuilderTF2Test.test_create_faster_rcnn_model_from_config_with_example_miner): 0.01s\n",
      "I0811 15:33:12.349205 20736 test_util.py:2102] time(__main__.ModelBuilderTF2Test.test_create_faster_rcnn_model_from_config_with_example_miner): 0.01s\n",
      "[       OK ] ModelBuilderTF2Test.test_create_faster_rcnn_model_from_config_with_example_miner\n",
      "[ RUN      ] ModelBuilderTF2Test.test_create_faster_rcnn_models_from_config_faster_rcnn_with_matmul\n",
      "INFO:tensorflow:time(__main__.ModelBuilderTF2Test.test_create_faster_rcnn_models_from_config_faster_rcnn_with_matmul): 0.08s\n",
      "I0811 15:33:12.426711 20736 test_util.py:2102] time(__main__.ModelBuilderTF2Test.test_create_faster_rcnn_models_from_config_faster_rcnn_with_matmul): 0.08s\n",
      "[       OK ] ModelBuilderTF2Test.test_create_faster_rcnn_models_from_config_faster_rcnn_with_matmul\n",
      "[ RUN      ] ModelBuilderTF2Test.test_create_faster_rcnn_models_from_config_faster_rcnn_without_matmul\n",
      "INFO:tensorflow:time(__main__.ModelBuilderTF2Test.test_create_faster_rcnn_models_from_config_faster_rcnn_without_matmul): 0.07s\n",
      "I0811 15:33:12.500705 20736 test_util.py:2102] time(__main__.ModelBuilderTF2Test.test_create_faster_rcnn_models_from_config_faster_rcnn_without_matmul): 0.07s\n",
      "[       OK ] ModelBuilderTF2Test.test_create_faster_rcnn_models_from_config_faster_rcnn_without_matmul\n",
      "[ RUN      ] ModelBuilderTF2Test.test_create_faster_rcnn_models_from_config_mask_rcnn_with_matmul\n",
      "INFO:tensorflow:time(__main__.ModelBuilderTF2Test.test_create_faster_rcnn_models_from_config_mask_rcnn_with_matmul): 0.08s\n",
      "I0811 15:33:12.577710 20736 test_util.py:2102] time(__main__.ModelBuilderTF2Test.test_create_faster_rcnn_models_from_config_mask_rcnn_with_matmul): 0.08s\n",
      "[       OK ] ModelBuilderTF2Test.test_create_faster_rcnn_models_from_config_mask_rcnn_with_matmul\n",
      "[ RUN      ] ModelBuilderTF2Test.test_create_faster_rcnn_models_from_config_mask_rcnn_without_matmul\n",
      "INFO:tensorflow:time(__main__.ModelBuilderTF2Test.test_create_faster_rcnn_models_from_config_mask_rcnn_without_matmul): 0.08s\n",
      "I0811 15:33:12.655210 20736 test_util.py:2102] time(__main__.ModelBuilderTF2Test.test_create_faster_rcnn_models_from_config_mask_rcnn_without_matmul): 0.08s\n",
      "[       OK ] ModelBuilderTF2Test.test_create_faster_rcnn_models_from_config_mask_rcnn_without_matmul\n",
      "[ RUN      ] ModelBuilderTF2Test.test_create_rfcn_model_from_config\n",
      "INFO:tensorflow:time(__main__.ModelBuilderTF2Test.test_create_rfcn_model_from_config): 0.07s\n",
      "I0811 15:33:12.730179 20736 test_util.py:2102] time(__main__.ModelBuilderTF2Test.test_create_rfcn_model_from_config): 0.07s\n",
      "[       OK ] ModelBuilderTF2Test.test_create_rfcn_model_from_config\n",
      "[ RUN      ] ModelBuilderTF2Test.test_create_ssd_fpn_model_from_config\n",
      "INFO:tensorflow:time(__main__.ModelBuilderTF2Test.test_create_ssd_fpn_model_from_config): 0.02s\n",
      "I0811 15:33:12.751682 20736 test_util.py:2102] time(__main__.ModelBuilderTF2Test.test_create_ssd_fpn_model_from_config): 0.02s\n",
      "[       OK ] ModelBuilderTF2Test.test_create_ssd_fpn_model_from_config\n",
      "[ RUN      ] ModelBuilderTF2Test.test_create_ssd_models_from_config\n",
      "I0811 15:33:12.967704 20736 ssd_efficientnet_bifpn_feature_extractor.py:142] EfficientDet EfficientNet backbone version: efficientnet-b0\n",
      "I0811 15:33:12.967704 20736 ssd_efficientnet_bifpn_feature_extractor.py:144] EfficientDet BiFPN num filters: 64\n",
      "I0811 15:33:12.967704 20736 ssd_efficientnet_bifpn_feature_extractor.py:145] EfficientDet BiFPN num iterations: 3\n",
      "I0811 15:33:12.969203 20736 efficientnet_model.py:147] round_filter input=32 output=32\n",
      "I0811 15:33:12.980941 20736 efficientnet_model.py:147] round_filter input=32 output=32\n",
      "I0811 15:33:12.980941 20736 efficientnet_model.py:147] round_filter input=16 output=16\n",
      "I0811 15:33:13.030997 20736 efficientnet_model.py:147] round_filter input=16 output=16\n",
      "I0811 15:33:13.030997 20736 efficientnet_model.py:147] round_filter input=24 output=24\n",
      "I0811 15:33:13.140060 20736 efficientnet_model.py:147] round_filter input=24 output=24\n",
      "I0811 15:33:13.140060 20736 efficientnet_model.py:147] round_filter input=40 output=40\n",
      "I0811 15:33:13.248532 20736 efficientnet_model.py:147] round_filter input=40 output=40\n",
      "I0811 15:33:13.249032 20736 efficientnet_model.py:147] round_filter input=80 output=80\n",
      "I0811 15:33:13.413552 20736 efficientnet_model.py:147] round_filter input=80 output=80\n",
      "I0811 15:33:13.414059 20736 efficientnet_model.py:147] round_filter input=112 output=112\n",
      "I0811 15:33:13.580053 20736 efficientnet_model.py:147] round_filter input=112 output=112\n",
      "I0811 15:33:13.580053 20736 efficientnet_model.py:147] round_filter input=192 output=192\n",
      "I0811 15:33:13.797527 20736 efficientnet_model.py:147] round_filter input=192 output=192\n",
      "I0811 15:33:13.798027 20736 efficientnet_model.py:147] round_filter input=320 output=320\n",
      "I0811 15:33:13.851555 20736 efficientnet_model.py:147] round_filter input=1280 output=1280\n",
      "I0811 15:33:13.872554 20736 efficientnet_model.py:458] Building model efficientnet with params ModelConfig(width_coefficient=1.0, depth_coefficient=1.0, resolution=224, dropout_rate=0.2, blocks=(BlockConfig(input_filters=32, output_filters=16, kernel_size=3, num_repeat=1, expand_ratio=1, strides=(1, 1), se_ratio=0.25, id_skip=True, fused_conv=False, conv_type='depthwise'), BlockConfig(input_filters=16, output_filters=24, kernel_size=3, num_repeat=2, expand_ratio=6, strides=(2, 2), se_ratio=0.25, id_skip=True, fused_conv=False, conv_type='depthwise'), BlockConfig(input_filters=24, output_filters=40, kernel_size=5, num_repeat=2, expand_ratio=6, strides=(2, 2), se_ratio=0.25, id_skip=True, fused_conv=False, conv_type='depthwise'), BlockConfig(input_filters=40, output_filters=80, kernel_size=3, num_repeat=3, expand_ratio=6, strides=(2, 2), se_ratio=0.25, id_skip=True, fused_conv=False, conv_type='depthwise'), BlockConfig(input_filters=80, output_filters=112, kernel_size=5, num_repeat=3, expand_ratio=6, strides=(1, 1), se_ratio=0.25, id_skip=True, fused_conv=False, conv_type='depthwise'), BlockConfig(input_filters=112, output_filters=192, kernel_size=5, num_repeat=4, expand_ratio=6, strides=(2, 2), se_ratio=0.25, id_skip=True, fused_conv=False, conv_type='depthwise'), BlockConfig(input_filters=192, output_filters=320, kernel_size=3, num_repeat=1, expand_ratio=6, strides=(1, 1), se_ratio=0.25, id_skip=True, fused_conv=False, conv_type='depthwise')), stem_base_filters=32, top_base_filters=1280, activation='simple_swish', batch_norm='default', bn_momentum=0.99, bn_epsilon=0.001, weight_decay=5e-06, drop_connect_rate=0.2, depth_divisor=8, min_depth=None, use_se=True, input_channels=3, num_classes=1000, model_name='efficientnet', rescale_input=False, data_format='channels_last', dtype='float32')\n",
      "I0811 15:33:13.917549 20736 ssd_efficientnet_bifpn_feature_extractor.py:142] EfficientDet EfficientNet backbone version: efficientnet-b1\n",
      "I0811 15:33:13.917549 20736 ssd_efficientnet_bifpn_feature_extractor.py:144] EfficientDet BiFPN num filters: 88\n",
      "I0811 15:33:13.917549 20736 ssd_efficientnet_bifpn_feature_extractor.py:145] EfficientDet BiFPN num iterations: 4\n",
      "I0811 15:33:13.919052 20736 efficientnet_model.py:147] round_filter input=32 output=32\n",
      "I0811 15:33:13.929528 20736 efficientnet_model.py:147] round_filter input=32 output=32\n",
      "I0811 15:33:13.930050 20736 efficientnet_model.py:147] round_filter input=16 output=16\n",
      "I0811 15:33:14.014028 20736 efficientnet_model.py:147] round_filter input=16 output=16\n",
      "I0811 15:33:14.014028 20736 efficientnet_model.py:147] round_filter input=24 output=24\n",
      "I0811 15:33:14.175552 20736 efficientnet_model.py:147] round_filter input=24 output=24\n",
      "I0811 15:33:14.176053 20736 efficientnet_model.py:147] round_filter input=40 output=40\n",
      "I0811 15:33:14.337553 20736 efficientnet_model.py:147] round_filter input=40 output=40\n",
      "I0811 15:33:14.337553 20736 efficientnet_model.py:147] round_filter input=80 output=80\n",
      "I0811 15:33:14.559552 20736 efficientnet_model.py:147] round_filter input=80 output=80\n",
      "I0811 15:33:14.559552 20736 efficientnet_model.py:147] round_filter input=112 output=112\n",
      "I0811 15:33:14.772552 20736 efficientnet_model.py:147] round_filter input=112 output=112\n",
      "I0811 15:33:14.772552 20736 efficientnet_model.py:147] round_filter input=192 output=192\n",
      "I0811 15:33:15.043551 20736 efficientnet_model.py:147] round_filter input=192 output=192\n",
      "I0811 15:33:15.044052 20736 efficientnet_model.py:147] round_filter input=320 output=320\n",
      "I0811 15:33:15.215553 20736 efficientnet_model.py:147] round_filter input=1280 output=1280\n",
      "I0811 15:33:15.235528 20736 efficientnet_model.py:458] Building model efficientnet with params ModelConfig(width_coefficient=1.0, depth_coefficient=1.1, resolution=240, dropout_rate=0.2, blocks=(BlockConfig(input_filters=32, output_filters=16, kernel_size=3, num_repeat=1, expand_ratio=1, strides=(1, 1), se_ratio=0.25, id_skip=True, fused_conv=False, conv_type='depthwise'), BlockConfig(input_filters=16, output_filters=24, kernel_size=3, num_repeat=2, expand_ratio=6, strides=(2, 2), se_ratio=0.25, id_skip=True, fused_conv=False, conv_type='depthwise'), BlockConfig(input_filters=24, output_filters=40, kernel_size=5, num_repeat=2, expand_ratio=6, strides=(2, 2), se_ratio=0.25, id_skip=True, fused_conv=False, conv_type='depthwise'), BlockConfig(input_filters=40, output_filters=80, kernel_size=3, num_repeat=3, expand_ratio=6, strides=(2, 2), se_ratio=0.25, id_skip=True, fused_conv=False, conv_type='depthwise'), BlockConfig(input_filters=80, output_filters=112, kernel_size=5, num_repeat=3, expand_ratio=6, strides=(1, 1), se_ratio=0.25, id_skip=True, fused_conv=False, conv_type='depthwise'), BlockConfig(input_filters=112, output_filters=192, kernel_size=5, num_repeat=4, expand_ratio=6, strides=(2, 2), se_ratio=0.25, id_skip=True, fused_conv=False, conv_type='depthwise'), BlockConfig(input_filters=192, output_filters=320, kernel_size=3, num_repeat=1, expand_ratio=6, strides=(1, 1), se_ratio=0.25, id_skip=True, fused_conv=False, conv_type='depthwise')), stem_base_filters=32, top_base_filters=1280, activation='simple_swish', batch_norm='default', bn_momentum=0.99, bn_epsilon=0.001, weight_decay=5e-06, drop_connect_rate=0.2, depth_divisor=8, min_depth=None, use_se=True, input_channels=3, num_classes=1000, model_name='efficientnet', rescale_input=False, data_format='channels_last', dtype='float32')\n",
      "I0811 15:33:15.287552 20736 ssd_efficientnet_bifpn_feature_extractor.py:142] EfficientDet EfficientNet backbone version: efficientnet-b2\n",
      "I0811 15:33:15.287552 20736 ssd_efficientnet_bifpn_feature_extractor.py:144] EfficientDet BiFPN num filters: 112\n",
      "I0811 15:33:15.287552 20736 ssd_efficientnet_bifpn_feature_extractor.py:145] EfficientDet BiFPN num iterations: 5\n",
      "I0811 15:33:15.288554 20736 efficientnet_model.py:147] round_filter input=32 output=32\n",
      "I0811 15:33:15.299552 20736 efficientnet_model.py:147] round_filter input=32 output=32\n",
      "I0811 15:33:15.300052 20736 efficientnet_model.py:147] round_filter input=16 output=16\n",
      "I0811 15:33:15.391026 20736 efficientnet_model.py:147] round_filter input=16 output=16\n",
      "I0811 15:33:15.391026 20736 efficientnet_model.py:147] round_filter input=24 output=24\n",
      "I0811 15:33:15.552052 20736 efficientnet_model.py:147] round_filter input=24 output=24\n",
      "I0811 15:33:15.552052 20736 efficientnet_model.py:147] round_filter input=40 output=48\n",
      "I0811 15:33:15.712485 20736 efficientnet_model.py:147] round_filter input=40 output=48\n",
      "I0811 15:33:15.712485 20736 efficientnet_model.py:147] round_filter input=80 output=88\n",
      "I0811 15:33:15.928956 20736 efficientnet_model.py:147] round_filter input=80 output=88\n",
      "I0811 15:33:15.928956 20736 efficientnet_model.py:147] round_filter input=112 output=120\n",
      "I0811 15:33:16.147484 20736 efficientnet_model.py:147] round_filter input=112 output=120\n",
      "I0811 15:33:16.147484 20736 efficientnet_model.py:147] round_filter input=192 output=208\n",
      "I0811 15:33:16.419956 20736 efficientnet_model.py:147] round_filter input=192 output=208\n",
      "I0811 15:33:16.419956 20736 efficientnet_model.py:147] round_filter input=320 output=352\n",
      "I0811 15:33:16.536478 20736 efficientnet_model.py:147] round_filter input=1280 output=1408\n",
      "I0811 15:33:16.558954 20736 efficientnet_model.py:458] Building model efficientnet with params ModelConfig(width_coefficient=1.1, depth_coefficient=1.2, resolution=260, dropout_rate=0.3, blocks=(BlockConfig(input_filters=32, output_filters=16, kernel_size=3, num_repeat=1, expand_ratio=1, strides=(1, 1), se_ratio=0.25, id_skip=True, fused_conv=False, conv_type='depthwise'), BlockConfig(input_filters=16, output_filters=24, kernel_size=3, num_repeat=2, expand_ratio=6, strides=(2, 2), se_ratio=0.25, id_skip=True, fused_conv=False, conv_type='depthwise'), BlockConfig(input_filters=24, output_filters=40, kernel_size=5, num_repeat=2, expand_ratio=6, strides=(2, 2), se_ratio=0.25, id_skip=True, fused_conv=False, conv_type='depthwise'), BlockConfig(input_filters=40, output_filters=80, kernel_size=3, num_repeat=3, expand_ratio=6, strides=(2, 2), se_ratio=0.25, id_skip=True, fused_conv=False, conv_type='depthwise'), BlockConfig(input_filters=80, output_filters=112, kernel_size=5, num_repeat=3, expand_ratio=6, strides=(1, 1), se_ratio=0.25, id_skip=True, fused_conv=False, conv_type='depthwise'), BlockConfig(input_filters=112, output_filters=192, kernel_size=5, num_repeat=4, expand_ratio=6, strides=(2, 2), se_ratio=0.25, id_skip=True, fused_conv=False, conv_type='depthwise'), BlockConfig(input_filters=192, output_filters=320, kernel_size=3, num_repeat=1, expand_ratio=6, strides=(1, 1), se_ratio=0.25, id_skip=True, fused_conv=False, conv_type='depthwise')), stem_base_filters=32, top_base_filters=1280, activation='simple_swish', batch_norm='default', bn_momentum=0.99, bn_epsilon=0.001, weight_decay=5e-06, drop_connect_rate=0.2, depth_divisor=8, min_depth=None, use_se=True, input_channels=3, num_classes=1000, model_name='efficientnet', rescale_input=False, data_format='channels_last', dtype='float32')\n",
      "I0811 15:33:16.612453 20736 ssd_efficientnet_bifpn_feature_extractor.py:142] EfficientDet EfficientNet backbone version: efficientnet-b3\n",
      "I0811 15:33:16.612453 20736 ssd_efficientnet_bifpn_feature_extractor.py:144] EfficientDet BiFPN num filters: 160\n",
      "I0811 15:33:16.612453 20736 ssd_efficientnet_bifpn_feature_extractor.py:145] EfficientDet BiFPN num iterations: 6\n",
      "I0811 15:33:16.613954 20736 efficientnet_model.py:147] round_filter input=32 output=40\n",
      "I0811 15:33:16.625955 20736 efficientnet_model.py:147] round_filter input=32 output=40\n",
      "I0811 15:33:16.626456 20736 efficientnet_model.py:147] round_filter input=16 output=24\n",
      "I0811 15:33:16.716479 20736 efficientnet_model.py:147] round_filter input=16 output=24\n",
      "I0811 15:33:16.716479 20736 efficientnet_model.py:147] round_filter input=24 output=32\n",
      "I0811 15:33:16.879976 20736 efficientnet_model.py:147] round_filter input=24 output=32\n",
      "I0811 15:33:16.880490 20736 efficientnet_model.py:147] round_filter input=40 output=48\n",
      "I0811 15:33:17.039491 20736 efficientnet_model.py:147] round_filter input=40 output=48\n",
      "I0811 15:33:17.039491 20736 efficientnet_model.py:147] round_filter input=80 output=96\n",
      "I0811 15:33:17.322979 20736 efficientnet_model.py:147] round_filter input=80 output=96\n",
      "I0811 15:33:17.323483 20736 efficientnet_model.py:147] round_filter input=112 output=136\n",
      "I0811 15:33:17.610955 20736 efficientnet_model.py:147] round_filter input=112 output=136\n",
      "I0811 15:33:17.610955 20736 efficientnet_model.py:147] round_filter input=192 output=232\n",
      "I0811 15:33:18.066986 20736 efficientnet_model.py:147] round_filter input=192 output=232\n",
      "I0811 15:33:18.066986 20736 efficientnet_model.py:147] round_filter input=320 output=384\n",
      "I0811 15:33:18.173455 20736 efficientnet_model.py:147] round_filter input=1280 output=1536\n",
      "I0811 15:33:18.194979 20736 efficientnet_model.py:458] Building model efficientnet with params ModelConfig(width_coefficient=1.2, depth_coefficient=1.4, resolution=300, dropout_rate=0.3, blocks=(BlockConfig(input_filters=32, output_filters=16, kernel_size=3, num_repeat=1, expand_ratio=1, strides=(1, 1), se_ratio=0.25, id_skip=True, fused_conv=False, conv_type='depthwise'), BlockConfig(input_filters=16, output_filters=24, kernel_size=3, num_repeat=2, expand_ratio=6, strides=(2, 2), se_ratio=0.25, id_skip=True, fused_conv=False, conv_type='depthwise'), BlockConfig(input_filters=24, output_filters=40, kernel_size=5, num_repeat=2, expand_ratio=6, strides=(2, 2), se_ratio=0.25, id_skip=True, fused_conv=False, conv_type='depthwise'), BlockConfig(input_filters=40, output_filters=80, kernel_size=3, num_repeat=3, expand_ratio=6, strides=(2, 2), se_ratio=0.25, id_skip=True, fused_conv=False, conv_type='depthwise'), BlockConfig(input_filters=80, output_filters=112, kernel_size=5, num_repeat=3, expand_ratio=6, strides=(1, 1), se_ratio=0.25, id_skip=True, fused_conv=False, conv_type='depthwise'), BlockConfig(input_filters=112, output_filters=192, kernel_size=5, num_repeat=4, expand_ratio=6, strides=(2, 2), se_ratio=0.25, id_skip=True, fused_conv=False, conv_type='depthwise'), BlockConfig(input_filters=192, output_filters=320, kernel_size=3, num_repeat=1, expand_ratio=6, strides=(1, 1), se_ratio=0.25, id_skip=True, fused_conv=False, conv_type='depthwise')), stem_base_filters=32, top_base_filters=1280, activation='simple_swish', batch_norm='default', bn_momentum=0.99, bn_epsilon=0.001, weight_decay=5e-06, drop_connect_rate=0.2, depth_divisor=8, min_depth=None, use_se=True, input_channels=3, num_classes=1000, model_name='efficientnet', rescale_input=False, data_format='channels_last', dtype='float32')\n",
      "I0811 15:33:18.251984 20736 ssd_efficientnet_bifpn_feature_extractor.py:142] EfficientDet EfficientNet backbone version: efficientnet-b4\n",
      "I0811 15:33:18.251984 20736 ssd_efficientnet_bifpn_feature_extractor.py:144] EfficientDet BiFPN num filters: 224\n",
      "I0811 15:33:18.251984 20736 ssd_efficientnet_bifpn_feature_extractor.py:145] EfficientDet BiFPN num iterations: 7\n",
      "I0811 15:33:18.253485 20736 efficientnet_model.py:147] round_filter input=32 output=48\n",
      "I0811 15:33:18.265487 20736 efficientnet_model.py:147] round_filter input=32 output=48\n",
      "I0811 15:33:18.265487 20736 efficientnet_model.py:147] round_filter input=16 output=24\n",
      "I0811 15:33:18.349985 20736 efficientnet_model.py:147] round_filter input=16 output=24\n",
      "I0811 15:33:18.349985 20736 efficientnet_model.py:147] round_filter input=24 output=32\n",
      "I0811 15:33:18.571953 20736 efficientnet_model.py:147] round_filter input=24 output=32\n",
      "I0811 15:33:18.571953 20736 efficientnet_model.py:147] round_filter input=40 output=56\n",
      "I0811 15:33:18.790485 20736 efficientnet_model.py:147] round_filter input=40 output=56\n",
      "I0811 15:33:18.790955 20736 efficientnet_model.py:147] round_filter input=80 output=112\n",
      "I0811 15:33:19.117454 20736 efficientnet_model.py:147] round_filter input=80 output=112\n",
      "I0811 15:33:19.117957 20736 efficientnet_model.py:147] round_filter input=112 output=160\n",
      "I0811 15:33:19.447957 20736 efficientnet_model.py:147] round_filter input=112 output=160\n",
      "I0811 15:33:19.448456 20736 efficientnet_model.py:147] round_filter input=192 output=272\n",
      "I0811 15:33:19.882012 20736 efficientnet_model.py:147] round_filter input=192 output=272\n",
      "I0811 15:33:19.882516 20736 efficientnet_model.py:147] round_filter input=320 output=448\n",
      "I0811 15:33:20.005039 20736 efficientnet_model.py:147] round_filter input=1280 output=1792\n",
      "I0811 15:33:20.025038 20736 efficientnet_model.py:458] Building model efficientnet with params ModelConfig(width_coefficient=1.4, depth_coefficient=1.8, resolution=380, dropout_rate=0.4, blocks=(BlockConfig(input_filters=32, output_filters=16, kernel_size=3, num_repeat=1, expand_ratio=1, strides=(1, 1), se_ratio=0.25, id_skip=True, fused_conv=False, conv_type='depthwise'), BlockConfig(input_filters=16, output_filters=24, kernel_size=3, num_repeat=2, expand_ratio=6, strides=(2, 2), se_ratio=0.25, id_skip=True, fused_conv=False, conv_type='depthwise'), BlockConfig(input_filters=24, output_filters=40, kernel_size=5, num_repeat=2, expand_ratio=6, strides=(2, 2), se_ratio=0.25, id_skip=True, fused_conv=False, conv_type='depthwise'), BlockConfig(input_filters=40, output_filters=80, kernel_size=3, num_repeat=3, expand_ratio=6, strides=(2, 2), se_ratio=0.25, id_skip=True, fused_conv=False, conv_type='depthwise'), BlockConfig(input_filters=80, output_filters=112, kernel_size=5, num_repeat=3, expand_ratio=6, strides=(1, 1), se_ratio=0.25, id_skip=True, fused_conv=False, conv_type='depthwise'), BlockConfig(input_filters=112, output_filters=192, kernel_size=5, num_repeat=4, expand_ratio=6, strides=(2, 2), se_ratio=0.25, id_skip=True, fused_conv=False, conv_type='depthwise'), BlockConfig(input_filters=192, output_filters=320, kernel_size=3, num_repeat=1, expand_ratio=6, strides=(1, 1), se_ratio=0.25, id_skip=True, fused_conv=False, conv_type='depthwise')), stem_base_filters=32, top_base_filters=1280, activation='simple_swish', batch_norm='default', bn_momentum=0.99, bn_epsilon=0.001, weight_decay=5e-06, drop_connect_rate=0.2, depth_divisor=8, min_depth=None, use_se=True, input_channels=3, num_classes=1000, model_name='efficientnet', rescale_input=False, data_format='channels_last', dtype='float32')\n",
      "I0811 15:33:20.092037 20736 ssd_efficientnet_bifpn_feature_extractor.py:142] EfficientDet EfficientNet backbone version: efficientnet-b5\n",
      "I0811 15:33:20.092037 20736 ssd_efficientnet_bifpn_feature_extractor.py:144] EfficientDet BiFPN num filters: 288\n",
      "I0811 15:33:20.092037 20736 ssd_efficientnet_bifpn_feature_extractor.py:145] EfficientDet BiFPN num iterations: 7\n",
      "I0811 15:33:20.093538 20736 efficientnet_model.py:147] round_filter input=32 output=48\n",
      "I0811 15:33:20.104541 20736 efficientnet_model.py:147] round_filter input=32 output=48\n",
      "I0811 15:33:20.104541 20736 efficientnet_model.py:147] round_filter input=16 output=24\n",
      "I0811 15:33:20.239012 20736 efficientnet_model.py:147] round_filter input=16 output=24\n",
      "I0811 15:33:20.239012 20736 efficientnet_model.py:147] round_filter input=24 output=40\n",
      "I0811 15:33:20.511037 20736 efficientnet_model.py:147] round_filter input=24 output=40\n",
      "I0811 15:33:20.511037 20736 efficientnet_model.py:147] round_filter input=40 output=64\n",
      "I0811 15:33:20.925015 20736 efficientnet_model.py:147] round_filter input=40 output=64\n",
      "I0811 15:33:20.925015 20736 efficientnet_model.py:147] round_filter input=80 output=128\n",
      "I0811 15:33:21.305012 20736 efficientnet_model.py:147] round_filter input=80 output=128\n",
      "I0811 15:33:21.305514 20736 efficientnet_model.py:147] round_filter input=112 output=176\n",
      "I0811 15:33:21.705045 20736 efficientnet_model.py:147] round_filter input=112 output=176\n",
      "I0811 15:33:21.705045 20736 efficientnet_model.py:147] round_filter input=192 output=304\n",
      "I0811 15:33:22.193524 20736 efficientnet_model.py:147] round_filter input=192 output=304\n",
      "I0811 15:33:22.193524 20736 efficientnet_model.py:147] round_filter input=320 output=512\n",
      "I0811 15:33:22.354012 20736 efficientnet_model.py:147] round_filter input=1280 output=2048\n",
      "I0811 15:33:22.375013 20736 efficientnet_model.py:458] Building model efficientnet with params ModelConfig(width_coefficient=1.6, depth_coefficient=2.2, resolution=456, dropout_rate=0.4, blocks=(BlockConfig(input_filters=32, output_filters=16, kernel_size=3, num_repeat=1, expand_ratio=1, strides=(1, 1), se_ratio=0.25, id_skip=True, fused_conv=False, conv_type='depthwise'), BlockConfig(input_filters=16, output_filters=24, kernel_size=3, num_repeat=2, expand_ratio=6, strides=(2, 2), se_ratio=0.25, id_skip=True, fused_conv=False, conv_type='depthwise'), BlockConfig(input_filters=24, output_filters=40, kernel_size=5, num_repeat=2, expand_ratio=6, strides=(2, 2), se_ratio=0.25, id_skip=True, fused_conv=False, conv_type='depthwise'), BlockConfig(input_filters=40, output_filters=80, kernel_size=3, num_repeat=3, expand_ratio=6, strides=(2, 2), se_ratio=0.25, id_skip=True, fused_conv=False, conv_type='depthwise'), BlockConfig(input_filters=80, output_filters=112, kernel_size=5, num_repeat=3, expand_ratio=6, strides=(1, 1), se_ratio=0.25, id_skip=True, fused_conv=False, conv_type='depthwise'), BlockConfig(input_filters=112, output_filters=192, kernel_size=5, num_repeat=4, expand_ratio=6, strides=(2, 2), se_ratio=0.25, id_skip=True, fused_conv=False, conv_type='depthwise'), BlockConfig(input_filters=192, output_filters=320, kernel_size=3, num_repeat=1, expand_ratio=6, strides=(1, 1), se_ratio=0.25, id_skip=True, fused_conv=False, conv_type='depthwise')), stem_base_filters=32, top_base_filters=1280, activation='simple_swish', batch_norm='default', bn_momentum=0.99, bn_epsilon=0.001, weight_decay=5e-06, drop_connect_rate=0.2, depth_divisor=8, min_depth=None, use_se=True, input_channels=3, num_classes=1000, model_name='efficientnet', rescale_input=False, data_format='channels_last', dtype='float32')\n",
      "I0811 15:33:22.453037 20736 ssd_efficientnet_bifpn_feature_extractor.py:142] EfficientDet EfficientNet backbone version: efficientnet-b6\n",
      "I0811 15:33:22.453537 20736 ssd_efficientnet_bifpn_feature_extractor.py:144] EfficientDet BiFPN num filters: 384\n",
      "I0811 15:33:22.453537 20736 ssd_efficientnet_bifpn_feature_extractor.py:145] EfficientDet BiFPN num iterations: 8\n",
      "I0811 15:33:22.454512 20736 efficientnet_model.py:147] round_filter input=32 output=56\n",
      "I0811 15:33:22.466537 20736 efficientnet_model.py:147] round_filter input=32 output=56\n",
      "I0811 15:33:22.466537 20736 efficientnet_model.py:147] round_filter input=16 output=32\n",
      "I0811 15:33:22.595543 20736 efficientnet_model.py:147] round_filter input=16 output=32\n",
      "I0811 15:33:22.595543 20736 efficientnet_model.py:147] round_filter input=24 output=40\n",
      "I0811 15:33:22.922043 20736 efficientnet_model.py:147] round_filter input=24 output=40\n",
      "I0811 15:33:22.922043 20736 efficientnet_model.py:147] round_filter input=40 output=72\n",
      "I0811 15:33:23.247036 20736 efficientnet_model.py:147] round_filter input=40 output=72\n",
      "I0811 15:33:23.247036 20736 efficientnet_model.py:147] round_filter input=80 output=144\n",
      "I0811 15:33:23.689012 20736 efficientnet_model.py:147] round_filter input=80 output=144\n",
      "I0811 15:33:23.689012 20736 efficientnet_model.py:147] round_filter input=112 output=200\n",
      "I0811 15:33:24.246571 20736 efficientnet_model.py:147] round_filter input=112 output=200\n",
      "I0811 15:33:24.246571 20736 efficientnet_model.py:147] round_filter input=192 output=344\n",
      "I0811 15:33:24.844570 20736 efficientnet_model.py:147] round_filter input=192 output=344\n",
      "I0811 15:33:24.844570 20736 efficientnet_model.py:147] round_filter input=320 output=576\n",
      "I0811 15:33:25.005571 20736 efficientnet_model.py:147] round_filter input=1280 output=2304\n",
      "I0811 15:33:25.025573 20736 efficientnet_model.py:458] Building model efficientnet with params ModelConfig(width_coefficient=1.8, depth_coefficient=2.6, resolution=528, dropout_rate=0.5, blocks=(BlockConfig(input_filters=32, output_filters=16, kernel_size=3, num_repeat=1, expand_ratio=1, strides=(1, 1), se_ratio=0.25, id_skip=True, fused_conv=False, conv_type='depthwise'), BlockConfig(input_filters=16, output_filters=24, kernel_size=3, num_repeat=2, expand_ratio=6, strides=(2, 2), se_ratio=0.25, id_skip=True, fused_conv=False, conv_type='depthwise'), BlockConfig(input_filters=24, output_filters=40, kernel_size=5, num_repeat=2, expand_ratio=6, strides=(2, 2), se_ratio=0.25, id_skip=True, fused_conv=False, conv_type='depthwise'), BlockConfig(input_filters=40, output_filters=80, kernel_size=3, num_repeat=3, expand_ratio=6, strides=(2, 2), se_ratio=0.25, id_skip=True, fused_conv=False, conv_type='depthwise'), BlockConfig(input_filters=80, output_filters=112, kernel_size=5, num_repeat=3, expand_ratio=6, strides=(1, 1), se_ratio=0.25, id_skip=True, fused_conv=False, conv_type='depthwise'), BlockConfig(input_filters=112, output_filters=192, kernel_size=5, num_repeat=4, expand_ratio=6, strides=(2, 2), se_ratio=0.25, id_skip=True, fused_conv=False, conv_type='depthwise'), BlockConfig(input_filters=192, output_filters=320, kernel_size=3, num_repeat=1, expand_ratio=6, strides=(1, 1), se_ratio=0.25, id_skip=True, fused_conv=False, conv_type='depthwise')), stem_base_filters=32, top_base_filters=1280, activation='simple_swish', batch_norm='default', bn_momentum=0.99, bn_epsilon=0.001, weight_decay=5e-06, drop_connect_rate=0.2, depth_divisor=8, min_depth=None, use_se=True, input_channels=3, num_classes=1000, model_name='efficientnet', rescale_input=False, data_format='channels_last', dtype='float32')\n",
      "I0811 15:33:25.114547 20736 ssd_efficientnet_bifpn_feature_extractor.py:142] EfficientDet EfficientNet backbone version: efficientnet-b7\n",
      "I0811 15:33:25.114547 20736 ssd_efficientnet_bifpn_feature_extractor.py:144] EfficientDet BiFPN num filters: 384\n",
      "I0811 15:33:25.114547 20736 ssd_efficientnet_bifpn_feature_extractor.py:145] EfficientDet BiFPN num iterations: 8\n",
      "I0811 15:33:25.115571 20736 efficientnet_model.py:147] round_filter input=32 output=64\n",
      "I0811 15:33:25.126570 20736 efficientnet_model.py:147] round_filter input=32 output=64\n",
      "I0811 15:33:25.127072 20736 efficientnet_model.py:147] round_filter input=16 output=32\n",
      "I0811 15:33:25.297071 20736 efficientnet_model.py:147] round_filter input=16 output=32\n",
      "I0811 15:33:25.297572 20736 efficientnet_model.py:147] round_filter input=24 output=48\n",
      "I0811 15:33:25.674072 20736 efficientnet_model.py:147] round_filter input=24 output=48\n",
      "I0811 15:33:25.674072 20736 efficientnet_model.py:147] round_filter input=40 output=80\n",
      "I0811 15:33:26.055546 20736 efficientnet_model.py:147] round_filter input=40 output=80\n",
      "I0811 15:33:26.055546 20736 efficientnet_model.py:147] round_filter input=80 output=160\n",
      "I0811 15:33:26.615046 20736 efficientnet_model.py:147] round_filter input=80 output=160\n",
      "I0811 15:33:26.615046 20736 efficientnet_model.py:147] round_filter input=112 output=224\n",
      "I0811 15:33:27.305045 20736 efficientnet_model.py:147] round_filter input=112 output=224\n",
      "I0811 15:33:27.305045 20736 efficientnet_model.py:147] round_filter input=192 output=384\n",
      "I0811 15:33:28.019572 20736 efficientnet_model.py:147] round_filter input=192 output=384\n",
      "I0811 15:33:28.019572 20736 efficientnet_model.py:147] round_filter input=320 output=640\n",
      "I0811 15:33:28.239070 20736 efficientnet_model.py:147] round_filter input=1280 output=2560\n",
      "I0811 15:33:28.260071 20736 efficientnet_model.py:458] Building model efficientnet with params ModelConfig(width_coefficient=2.0, depth_coefficient=3.1, resolution=600, dropout_rate=0.5, blocks=(BlockConfig(input_filters=32, output_filters=16, kernel_size=3, num_repeat=1, expand_ratio=1, strides=(1, 1), se_ratio=0.25, id_skip=True, fused_conv=False, conv_type='depthwise'), BlockConfig(input_filters=16, output_filters=24, kernel_size=3, num_repeat=2, expand_ratio=6, strides=(2, 2), se_ratio=0.25, id_skip=True, fused_conv=False, conv_type='depthwise'), BlockConfig(input_filters=24, output_filters=40, kernel_size=5, num_repeat=2, expand_ratio=6, strides=(2, 2), se_ratio=0.25, id_skip=True, fused_conv=False, conv_type='depthwise'), BlockConfig(input_filters=40, output_filters=80, kernel_size=3, num_repeat=3, expand_ratio=6, strides=(2, 2), se_ratio=0.25, id_skip=True, fused_conv=False, conv_type='depthwise'), BlockConfig(input_filters=80, output_filters=112, kernel_size=5, num_repeat=3, expand_ratio=6, strides=(1, 1), se_ratio=0.25, id_skip=True, fused_conv=False, conv_type='depthwise'), BlockConfig(input_filters=112, output_filters=192, kernel_size=5, num_repeat=4, expand_ratio=6, strides=(2, 2), se_ratio=0.25, id_skip=True, fused_conv=False, conv_type='depthwise'), BlockConfig(input_filters=192, output_filters=320, kernel_size=3, num_repeat=1, expand_ratio=6, strides=(1, 1), se_ratio=0.25, id_skip=True, fused_conv=False, conv_type='depthwise')), stem_base_filters=32, top_base_filters=1280, activation='simple_swish', batch_norm='default', bn_momentum=0.99, bn_epsilon=0.001, weight_decay=5e-06, drop_connect_rate=0.2, depth_divisor=8, min_depth=None, use_se=True, input_channels=3, num_classes=1000, model_name='efficientnet', rescale_input=False, data_format='channels_last', dtype='float32')\n",
      "INFO:tensorflow:time(__main__.ModelBuilderTF2Test.test_create_ssd_models_from_config): 15.62s\n",
      "I0811 15:33:28.367546 20736 test_util.py:2102] time(__main__.ModelBuilderTF2Test.test_create_ssd_models_from_config): 15.62s\n",
      "[       OK ] ModelBuilderTF2Test.test_create_ssd_models_from_config\n",
      "[ RUN      ] ModelBuilderTF2Test.test_invalid_faster_rcnn_batchnorm_update\n",
      "INFO:tensorflow:time(__main__.ModelBuilderTF2Test.test_invalid_faster_rcnn_batchnorm_update): 0.0s\n",
      "I0811 15:33:28.372076 20736 test_util.py:2102] time(__main__.ModelBuilderTF2Test.test_invalid_faster_rcnn_batchnorm_update): 0.0s\n",
      "[       OK ] ModelBuilderTF2Test.test_invalid_faster_rcnn_batchnorm_update\n",
      "[ RUN      ] ModelBuilderTF2Test.test_invalid_first_stage_nms_iou_threshold\n",
      "INFO:tensorflow:time(__main__.ModelBuilderTF2Test.test_invalid_first_stage_nms_iou_threshold): 0.0s\n",
      "I0811 15:33:28.373576 20736 test_util.py:2102] time(__main__.ModelBuilderTF2Test.test_invalid_first_stage_nms_iou_threshold): 0.0s\n",
      "[       OK ] ModelBuilderTF2Test.test_invalid_first_stage_nms_iou_threshold\n",
      "[ RUN      ] ModelBuilderTF2Test.test_invalid_model_config_proto\n",
      "INFO:tensorflow:time(__main__.ModelBuilderTF2Test.test_invalid_model_config_proto): 0.0s\n",
      "I0811 15:33:28.373576 20736 test_util.py:2102] time(__main__.ModelBuilderTF2Test.test_invalid_model_config_proto): 0.0s\n",
      "[       OK ] ModelBuilderTF2Test.test_invalid_model_config_proto\n",
      "[ RUN      ] ModelBuilderTF2Test.test_invalid_second_stage_batch_size\n",
      "INFO:tensorflow:time(__main__.ModelBuilderTF2Test.test_invalid_second_stage_batch_size): 0.0s\n",
      "I0811 15:33:28.375048 20736 test_util.py:2102] time(__main__.ModelBuilderTF2Test.test_invalid_second_stage_batch_size): 0.0s\n",
      "[       OK ] ModelBuilderTF2Test.test_invalid_second_stage_batch_size\n",
      "[ RUN      ] ModelBuilderTF2Test.test_session\n",
      "[  SKIPPED ] ModelBuilderTF2Test.test_session\n",
      "[ RUN      ] ModelBuilderTF2Test.test_unknown_faster_rcnn_feature_extractor\n",
      "INFO:tensorflow:time(__main__.ModelBuilderTF2Test.test_unknown_faster_rcnn_feature_extractor): 0.0s\n",
      "I0811 15:33:28.376577 20736 test_util.py:2102] time(__main__.ModelBuilderTF2Test.test_unknown_faster_rcnn_feature_extractor): 0.0s\n",
      "[       OK ] ModelBuilderTF2Test.test_unknown_faster_rcnn_feature_extractor\n",
      "[ RUN      ] ModelBuilderTF2Test.test_unknown_meta_architecture\n",
      "INFO:tensorflow:time(__main__.ModelBuilderTF2Test.test_unknown_meta_architecture): 0.0s\n",
      "I0811 15:33:28.376577 20736 test_util.py:2102] time(__main__.ModelBuilderTF2Test.test_unknown_meta_architecture): 0.0s\n",
      "[       OK ] ModelBuilderTF2Test.test_unknown_meta_architecture\n",
      "[ RUN      ] ModelBuilderTF2Test.test_unknown_ssd_feature_extractor\n",
      "INFO:tensorflow:time(__main__.ModelBuilderTF2Test.test_unknown_ssd_feature_extractor): 0.0s\n",
      "I0811 15:33:28.377579 20736 test_util.py:2102] time(__main__.ModelBuilderTF2Test.test_unknown_ssd_feature_extractor): 0.0s\n",
      "[       OK ] ModelBuilderTF2Test.test_unknown_ssd_feature_extractor\n",
      "----------------------------------------------------------------------\n",
      "Ran 24 tests in 21.345s\n",
      "\n",
      "OK (skipped=1)\n"
     ]
    }
   ],
   "metadata": {
    "scrolled": true
   }
  },
  {
   "cell_type": "code",
   "execution_count": null,
   "source": [
    "!pip uninstall protobuf -y\r\n",
    "!pip install protobuf"
   ],
   "outputs": [],
   "metadata": {
    "collapsed": true,
    "jupyter": {
     "outputs_hidden": true
    }
   }
  },
  {
   "cell_type": "markdown",
   "source": [
    "# 0. Setup Config and Paths"
   ],
   "metadata": {
    "id": "QUANWN3rpfC9",
    "tags": []
   }
  },
  {
   "cell_type": "code",
   "execution_count": 3,
   "source": [
    "# restart your Jupyter kernel and run this after installation to confirm the installation works\r\n",
    "import object_detection"
   ],
   "outputs": [],
   "metadata": {}
  },
  {
   "cell_type": "code",
   "execution_count": 4,
   "source": [
    "import os\r\n",
    "# wget is used to download files from URLs\r\n",
    "import wget\r\n",
    "# shutil is used to move files\r\n",
    "import shutil\r\n",
    "import tensorflow as tf"
   ],
   "outputs": [],
   "metadata": {
    "id": "146BB11JpfDA"
   }
  },
  {
   "cell_type": "code",
   "execution_count": 5,
   "source": [
    "# check whether tensorflow has access to GPU\r\n",
    "tf.config.list_physical_devices('GPU')"
   ],
   "outputs": [
    {
     "output_type": "execute_result",
     "data": {
      "text/plain": [
       "[PhysicalDevice(name='/physical_device:GPU:0', device_type='GPU')]"
      ]
     },
     "metadata": {},
     "execution_count": 5
    }
   ],
   "metadata": {}
  },
  {
   "cell_type": "markdown",
   "source": [
    "If this returns an empty list then there is either something wrong with your tensorflow installation, or your machine has no GPU. If you want to use TensorFlow with GPU (recommended), please check this [video link here](https://youtu.be/hHWkvEcDBO0) to try to debug and make sure the cell above returns something like this:\r\n",
    "\r\n",
    "`[PhysicalDevice(name='/physical_device:GPU:0', device_type='GPU')]`"
   ],
   "metadata": {}
  },
  {
   "cell_type": "code",
   "execution_count": 6,
   "source": [
    "CUSTOM_MODEL_NAME = 'my_ssd_mobnet' \r\n",
    "PRETRAINED_MODEL_NAME = 'ssd_mobilenet_v2_fpnlite_320x320_coco17_tpu-8'\r\n",
    "PRETRAINED_MODEL_URL = 'http://download.tensorflow.org/models/object_detection/tf2/20200711/ssd_mobilenet_v2_fpnlite_320x320_coco17_tpu-8.tar.gz'\r\n",
    "LABEL_MAP_NAME = 'label_map.pbtxt'\r\n",
    "\r\n",
    "CLASS_NAMES = ['5', '10', '20', '50']"
   ],
   "outputs": [],
   "metadata": {
    "id": "42hJEdo_pfDB"
   }
  },
  {
   "cell_type": "code",
   "execution_count": 7,
   "source": [
    "paths = {\r\n",
    "    'WORKSPACE_PATH': os.path.join('Tensorflow', 'workspace'),\r\n",
    "    'APIMODEL_PATH': os.path.join('Tensorflow','models'),\r\n",
    "    'ANNOTATION_PATH': os.path.join('Tensorflow', 'workspace','annotations'),\r\n",
    "    'IMAGE_PATH': os.path.join('Tensorflow', 'workspace','images'),\r\n",
    "    'MODEL_PATH': os.path.join('Tensorflow', 'workspace','models'),\r\n",
    "    'PRETRAINED_MODEL_PATH': os.path.join('Tensorflow', 'workspace','pre-trained-models'),\r\n",
    "    'CHECKPOINT_PATH': os.path.join('Tensorflow', 'workspace','models',CUSTOM_MODEL_NAME), \r\n",
    "    'OUTPUT_PATH': os.path.join('Tensorflow', 'workspace','models',CUSTOM_MODEL_NAME, 'export'), \r\n",
    "    'TFJS_PATH':os.path.join('Tensorflow', 'workspace','models',CUSTOM_MODEL_NAME, 'tfjsexport'), \r\n",
    "    'TFLITE_PATH':os.path.join('Tensorflow', 'workspace','models',CUSTOM_MODEL_NAME, 'tfliteexport'), \r\n",
    "    'PROTOC_PATH':os.path.join('Tensorflow','protoc')\r\n",
    " }"
   ],
   "outputs": [],
   "metadata": {
    "id": "hbPhYVy_pfDB"
   }
  },
  {
   "cell_type": "code",
   "execution_count": 8,
   "source": [
    "files = {\r\n",
    "    'PIPELINE_CONFIG':os.path.join('Tensorflow', 'workspace','models', CUSTOM_MODEL_NAME, 'pipeline.config'),\r\n",
    "    # this generate_tfrecord.py script is obtained from https://tensorflow-object-detection-api-tutorial.readthedocs.io/en/latest/training.html\r\n",
    "    # to convert our PascalVOC XML annotation files into TFRecords which will be used by the TFOD API\r\n",
    "    'GENERATE_TF_RECORD': os.path.join('utils', 'generate_tfrecord.py'),\r\n",
    "    'LABELMAP': os.path.join(paths['ANNOTATION_PATH'], LABEL_MAP_NAME)\r\n",
    "}"
   ],
   "outputs": [],
   "metadata": {
    "id": "LwhWZMI0pfDC"
   }
  },
  {
   "cell_type": "code",
   "execution_count": 7,
   "source": [
    "# create all the necessary paths if not exists yet\r\n",
    "for path in paths.values():\r\n",
    "    if not os.path.exists(path):\r\n",
    "        os.makedirs(path)"
   ],
   "outputs": [],
   "metadata": {
    "id": "HR-TfDGrpfDC"
   }
  },
  {
   "cell_type": "markdown",
   "source": [
    "# 1. Download TF Models Pretrained Models from Tensorflow Model Zoo"
   ],
   "metadata": {
    "id": "OLU-rs_ipfDE"
   }
  },
  {
   "cell_type": "code",
   "execution_count": null,
   "source": [
    "wget.download(PRETRAINED_MODEL_URL)\r\n",
    "pretrained_tarfile = PRETRAINED_MODEL_NAME + '.tar.gz'\r\n",
    "!tar -zxvf {pretrained_tarfile}\r\n",
    "shutil.move(PRETRAINED_MODEL_NAME, paths['PRETRAINED_MODEL_PATH'])\r\n",
    "os.remove(pretrained_tarfile)"
   ],
   "outputs": [],
   "metadata": {
    "colab": {
     "base_uri": "https://localhost:8080/"
    },
    "id": "csofht2npfDE",
    "outputId": "ff5471b2-bed2-43f2-959c-327a706527b6"
   }
  },
  {
   "cell_type": "markdown",
   "source": [
    "# 2. Create Label Map File"
   ],
   "metadata": {
    "id": "M5KJTnkfpfDC"
   }
  },
  {
   "cell_type": "code",
   "execution_count": 17,
   "source": [
    "CLASS_NAMES"
   ],
   "outputs": [
    {
     "output_type": "execute_result",
     "data": {
      "text/plain": [
       "['5', '10', '20', '50']"
      ]
     },
     "metadata": {},
     "execution_count": 17
    }
   ],
   "metadata": {}
  },
  {
   "cell_type": "code",
   "execution_count": 8,
   "source": [
    "with open(files['LABELMAP'], 'w') as f:\r\n",
    "    for idx, label in enumerate(CLASS_NAMES, start=1):\r\n",
    "        f.write('item { \\n')\r\n",
    "        f.write(f'\\tname: \\'{label}\\'\\n')\r\n",
    "        f.write(f'\\tid: {idx}\\n')\r\n",
    "        f.write('}\\n')"
   ],
   "outputs": [],
   "metadata": {}
  },
  {
   "cell_type": "code",
   "execution_count": 9,
   "source": [
    "print(files['LABELMAP'])\r\n",
    "with open(files['LABELMAP']) as f:\r\n",
    "    print(f.read())"
   ],
   "outputs": [
    {
     "output_type": "stream",
     "name": "stdout",
     "text": [
      "Tensorflow\\workspace\\annotations\\label_map.pbtxt\n",
      "item { \n",
      "\tname: '5'\n",
      "\tid: 1\n",
      "}\n",
      "item { \n",
      "\tname: '10'\n",
      "\tid: 2\n",
      "}\n",
      "item { \n",
      "\tname: '20'\n",
      "\tid: 3\n",
      "}\n",
      "item { \n",
      "\tname: '50'\n",
      "\tid: 4\n",
      "}\n",
      "\n"
     ]
    }
   ],
   "metadata": {}
  },
  {
   "cell_type": "markdown",
   "source": [
    "# 3. Create TF records"
   ],
   "metadata": {
    "id": "C88zyVELpfDC"
   }
  },
  {
   "cell_type": "markdown",
   "source": [
    "OPTIONAL IF RUNNING ON COLAB\r\n",
    "- Upload the archive.tar.gz that we saved at the end of the previous notebook,\r\n",
    "- upload it to the \"image\" folder in the Google Colab by clicking \"Upload\" at \"image\" folder, refer the image below\r\n",
    "- Then untar it by running the next code cell\r\n",
    "\r\n",
    "![upload_colab](images/upload_colab.png)"
   ],
   "metadata": {}
  },
  {
   "cell_type": "code",
   "execution_count": 34,
   "source": [
    "ARCHIVE_FILES = os.path.join(paths['IMAGE_PATH'], 'archive.tar.gz')\r\n",
    "if os.path.exists(ARCHIVE_FILES):\r\n",
    "  !tar -zxvf {ARCHIVE_FILES}"
   ],
   "outputs": [],
   "metadata": {
    "colab": {
     "base_uri": "https://localhost:8080/"
    },
    "id": "kvf5WccwrFGq",
    "outputId": "49902aeb-0bd7-4298-e1a0-5b4a64eb2064"
   }
  },
  {
   "cell_type": "code",
   "execution_count": 8,
   "source": [
    "!python {files['GENERATE_TF_RECORD']} -x {os.path.join(paths['IMAGE_PATH'], 'train')} -e jpg -l {files['LABELMAP']} -o {os.path.join(paths['ANNOTATION_PATH'], 'train.record')} \r\n",
    "!python {files['GENERATE_TF_RECORD']} -x {os.path.join(paths['IMAGE_PATH'], 'test')} -e jpg -l {files['LABELMAP']} -o {os.path.join(paths['ANNOTATION_PATH'], 'test.record')} "
   ],
   "outputs": [
    {
     "output_type": "stream",
     "name": "stdout",
     "text": [
      "Successfully created the TFRecord file: Tensorflow\\workspace\\annotations\\train.record\n",
      "Successfully created the TFRecord file: Tensorflow\\workspace\\annotations\\test.record\n"
     ]
    }
   ],
   "metadata": {
    "colab": {
     "base_uri": "https://localhost:8080/"
    },
    "id": "UPFToGZqpfDD",
    "outputId": "0ebb456f-aadc-4a1f-96e6-fbfec1923e1c"
   }
  },
  {
   "cell_type": "markdown",
   "source": [
    "# 4. Copy Model Config to Training Folder"
   ],
   "metadata": {
    "id": "qT4QU7pLpfDE"
   }
  },
  {
   "cell_type": "code",
   "execution_count": 9,
   "source": [
    "shutil.copy2(os.path.join(paths['PRETRAINED_MODEL_PATH'], PRETRAINED_MODEL_NAME, 'pipeline.config'), os.path.join(paths['CHECKPOINT_PATH']))"
   ],
   "outputs": [
    {
     "output_type": "execute_result",
     "data": {
      "text/plain": [
       "'Tensorflow\\\\workspace\\\\models\\\\my_ssd_mobnet\\\\pipeline.config'"
      ]
     },
     "metadata": {},
     "execution_count": 9
    }
   ],
   "metadata": {
    "id": "cOjuTFbwpfDF"
   }
  },
  {
   "cell_type": "markdown",
   "source": [
    "# 5. Update Config For Transfer Learning"
   ],
   "metadata": {
    "id": "Ga8gpNslpfDF"
   }
  },
  {
   "cell_type": "code",
   "execution_count": 7,
   "source": [
    "import tensorflow as tf\r\n",
    "from object_detection.utils import config_util\r\n",
    "from object_detection.protos import pipeline_pb2\r\n",
    "from google.protobuf import text_format"
   ],
   "outputs": [],
   "metadata": {
    "id": "Z9hRrO_ppfDF"
   }
  },
  {
   "cell_type": "code",
   "execution_count": 8,
   "source": [
    "config = config_util.get_configs_from_pipeline_file(files['PIPELINE_CONFIG'])\r\n",
    "config"
   ],
   "outputs": [
    {
     "output_type": "execute_result",
     "data": {
      "text/plain": [
       "{'model': ssd {\n",
       "   num_classes: 4\n",
       "   image_resizer {\n",
       "     fixed_shape_resizer {\n",
       "       height: 320\n",
       "       width: 320\n",
       "     }\n",
       "   }\n",
       "   feature_extractor {\n",
       "     type: \"ssd_mobilenet_v2_fpn_keras\"\n",
       "     depth_multiplier: 1.0\n",
       "     min_depth: 16\n",
       "     conv_hyperparams {\n",
       "       regularizer {\n",
       "         l2_regularizer {\n",
       "           weight: 3.9999998989515007e-05\n",
       "         }\n",
       "       }\n",
       "       initializer {\n",
       "         random_normal_initializer {\n",
       "           mean: 0.0\n",
       "           stddev: 0.009999999776482582\n",
       "         }\n",
       "       }\n",
       "       activation: RELU_6\n",
       "       batch_norm {\n",
       "         decay: 0.996999979019165\n",
       "         scale: true\n",
       "         epsilon: 0.0010000000474974513\n",
       "       }\n",
       "     }\n",
       "     use_depthwise: true\n",
       "     override_base_feature_extractor_hyperparams: true\n",
       "     fpn {\n",
       "       min_level: 3\n",
       "       max_level: 7\n",
       "       additional_layer_depth: 128\n",
       "     }\n",
       "   }\n",
       "   box_coder {\n",
       "     faster_rcnn_box_coder {\n",
       "       y_scale: 10.0\n",
       "       x_scale: 10.0\n",
       "       height_scale: 5.0\n",
       "       width_scale: 5.0\n",
       "     }\n",
       "   }\n",
       "   matcher {\n",
       "     argmax_matcher {\n",
       "       matched_threshold: 0.5\n",
       "       unmatched_threshold: 0.5\n",
       "       ignore_thresholds: false\n",
       "       negatives_lower_than_unmatched: true\n",
       "       force_match_for_each_row: true\n",
       "       use_matmul_gather: true\n",
       "     }\n",
       "   }\n",
       "   similarity_calculator {\n",
       "     iou_similarity {\n",
       "     }\n",
       "   }\n",
       "   box_predictor {\n",
       "     weight_shared_convolutional_box_predictor {\n",
       "       conv_hyperparams {\n",
       "         regularizer {\n",
       "           l2_regularizer {\n",
       "             weight: 3.9999998989515007e-05\n",
       "           }\n",
       "         }\n",
       "         initializer {\n",
       "           random_normal_initializer {\n",
       "             mean: 0.0\n",
       "             stddev: 0.009999999776482582\n",
       "           }\n",
       "         }\n",
       "         activation: RELU_6\n",
       "         batch_norm {\n",
       "           decay: 0.996999979019165\n",
       "           scale: true\n",
       "           epsilon: 0.0010000000474974513\n",
       "         }\n",
       "       }\n",
       "       depth: 128\n",
       "       num_layers_before_predictor: 4\n",
       "       kernel_size: 3\n",
       "       class_prediction_bias_init: -4.599999904632568\n",
       "       share_prediction_tower: true\n",
       "       use_depthwise: true\n",
       "     }\n",
       "   }\n",
       "   anchor_generator {\n",
       "     multiscale_anchor_generator {\n",
       "       min_level: 3\n",
       "       max_level: 7\n",
       "       anchor_scale: 4.0\n",
       "       aspect_ratios: 1.0\n",
       "       aspect_ratios: 2.0\n",
       "       aspect_ratios: 0.5\n",
       "       scales_per_octave: 2\n",
       "     }\n",
       "   }\n",
       "   post_processing {\n",
       "     batch_non_max_suppression {\n",
       "       score_threshold: 9.99999993922529e-09\n",
       "       iou_threshold: 0.6000000238418579\n",
       "       max_detections_per_class: 100\n",
       "       max_total_detections: 100\n",
       "       use_static_shapes: false\n",
       "     }\n",
       "     score_converter: SIGMOID\n",
       "   }\n",
       "   normalize_loss_by_num_matches: true\n",
       "   loss {\n",
       "     localization_loss {\n",
       "       weighted_smooth_l1 {\n",
       "       }\n",
       "     }\n",
       "     classification_loss {\n",
       "       weighted_sigmoid_focal {\n",
       "         gamma: 2.0\n",
       "         alpha: 0.25\n",
       "       }\n",
       "     }\n",
       "     classification_weight: 1.0\n",
       "     localization_weight: 1.0\n",
       "   }\n",
       "   encode_background_as_zeros: true\n",
       "   normalize_loc_loss_by_codesize: true\n",
       "   inplace_batchnorm_update: true\n",
       "   freeze_batchnorm: false\n",
       " },\n",
       " 'train_config': batch_size: 4\n",
       " data_augmentation_options {\n",
       "   random_horizontal_flip {\n",
       "   }\n",
       " }\n",
       " data_augmentation_options {\n",
       "   random_crop_image {\n",
       "     min_object_covered: 0.0\n",
       "     min_aspect_ratio: 0.75\n",
       "     max_aspect_ratio: 3.0\n",
       "     min_area: 0.75\n",
       "     max_area: 1.0\n",
       "     overlap_thresh: 0.0\n",
       "   }\n",
       " }\n",
       " sync_replicas: true\n",
       " optimizer {\n",
       "   momentum_optimizer {\n",
       "     learning_rate {\n",
       "       cosine_decay_learning_rate {\n",
       "         learning_rate_base: 0.07999999821186066\n",
       "         total_steps: 50000\n",
       "         warmup_learning_rate: 0.026666000485420227\n",
       "         warmup_steps: 1000\n",
       "       }\n",
       "     }\n",
       "     momentum_optimizer_value: 0.8999999761581421\n",
       "   }\n",
       "   use_moving_average: false\n",
       " }\n",
       " fine_tune_checkpoint: \"Tensorflow\\\\workspace\\\\pre-trained-models\\\\ssd_mobilenet_v2_fpnlite_320x320_coco17_tpu-8\\\\checkpoint\\\\ckpt-0\"\n",
       " num_steps: 50000\n",
       " startup_delay_steps: 0.0\n",
       " replicas_to_aggregate: 8\n",
       " max_number_of_boxes: 100\n",
       " unpad_groundtruth_tensors: false\n",
       " fine_tune_checkpoint_type: \"detection\"\n",
       " fine_tune_checkpoint_version: V2,\n",
       " 'train_input_config': label_map_path: \"Tensorflow\\\\workspace\\\\annotations\\\\label_map.pbtxt\"\n",
       " tf_record_input_reader {\n",
       "   input_path: \"Tensorflow\\\\workspace\\\\annotations\\\\train.record\"\n",
       " },\n",
       " 'eval_config': metrics_set: \"coco_detection_metrics\"\n",
       " use_moving_averages: false,\n",
       " 'eval_input_configs': [label_map_path: \"Tensorflow\\\\workspace\\\\annotations\\\\label_map.pbtxt\"\n",
       " shuffle: false\n",
       " num_epochs: 1\n",
       " tf_record_input_reader {\n",
       "   input_path: \"Tensorflow\\\\workspace\\\\annotations\\\\test.record\"\n",
       " }\n",
       " ],\n",
       " 'eval_input_config': label_map_path: \"Tensorflow\\\\workspace\\\\annotations\\\\label_map.pbtxt\"\n",
       " shuffle: false\n",
       " num_epochs: 1\n",
       " tf_record_input_reader {\n",
       "   input_path: \"Tensorflow\\\\workspace\\\\annotations\\\\test.record\"\n",
       " }}"
      ]
     },
     "metadata": {},
     "execution_count": 8
    }
   ],
   "metadata": {
    "id": "c2A0mn4ipfDF"
   }
  },
  {
   "cell_type": "code",
   "execution_count": 9,
   "source": [
    "pipeline_config = pipeline_pb2.TrainEvalPipelineConfig()\r\n",
    "with tf.io.gfile.GFile(files['PIPELINE_CONFIG'], \"r\") as f:\r\n",
    "    proto_str = f.read()\r\n",
    "    text_format.Merge(proto_str, pipeline_config)"
   ],
   "outputs": [],
   "metadata": {
    "id": "9vK5lotDpfDF"
   }
  },
  {
   "cell_type": "code",
   "execution_count": 10,
   "source": [
    "pipeline_config.model.ssd.num_classes = len(CLASS_NAMES)\r\n",
    "pipeline_config.train_config.batch_size = 4\r\n",
    "pipeline_config.train_config.fine_tune_checkpoint = os.path.join(paths['PRETRAINED_MODEL_PATH'], PRETRAINED_MODEL_NAME, 'checkpoint', 'ckpt-0')\r\n",
    "pipeline_config.train_config.fine_tune_checkpoint_type = \"detection\"\r\n",
    "pipeline_config.train_input_reader.label_map_path= files['LABELMAP']\r\n",
    "pipeline_config.train_input_reader.tf_record_input_reader.input_path[:] = [os.path.join(paths['ANNOTATION_PATH'], 'train.record')]\r\n",
    "pipeline_config.eval_input_reader[0].label_map_path = files['LABELMAP']\r\n",
    "pipeline_config.eval_input_reader[0].tf_record_input_reader.input_path[:] = [os.path.join(paths['ANNOTATION_PATH'], 'test.record')]"
   ],
   "outputs": [],
   "metadata": {
    "id": "rP43Ph0JpfDG"
   }
  },
  {
   "cell_type": "code",
   "execution_count": 11,
   "source": [
    "config_text = text_format.MessageToString(pipeline_config)\r\n",
    "with tf.io.gfile.GFile(files['PIPELINE_CONFIG'], \"wb\") as f:\r\n",
    "    f.write(config_text)"
   ],
   "outputs": [],
   "metadata": {
    "id": "oJvfgwWqpfDG"
   }
  },
  {
   "cell_type": "markdown",
   "source": [
    "# 6. Train the model"
   ],
   "metadata": {
    "id": "Zr3ON7xMpfDG"
   }
  },
  {
   "cell_type": "code",
   "execution_count": 18,
   "source": [
    "TRAINING_SCRIPT = os.path.join(paths['APIMODEL_PATH'], 'research', 'object_detection', 'model_main_tf2.py')\r\n",
    "# change the training steps as necessary, recommended start with 10 to test whether it's working, then train for at least 2000 steps\r\n",
    "NUM_TRAIN_STEPS = 500"
   ],
   "outputs": [],
   "metadata": {
    "id": "B-Y2UQmQpfDG"
   }
  },
  {
   "cell_type": "code",
   "execution_count": 19,
   "source": [
    "command = f\"python {TRAINING_SCRIPT} --model_dir={paths['CHECKPOINT_PATH']} --pipeline_config_path={files['PIPELINE_CONFIG']} --num_train_steps={NUM_TRAIN_STEPS}\"\r\n",
    "print(command)"
   ],
   "outputs": [
    {
     "output_type": "stream",
     "name": "stdout",
     "text": [
      "python Tensorflow\\models\\research\\object_detection\\model_main_tf2.py --model_dir=Tensorflow\\workspace\\models\\my_ssd_mobnet --pipeline_config_path=Tensorflow\\workspace\\models\\my_ssd_mobnet\\pipeline.config --num_train_steps=500\n"
     ]
    }
   ],
   "metadata": {
    "id": "jMP2XDfQpfDH"
   }
  },
  {
   "cell_type": "markdown",
   "source": [
    "Copy this command from the cell output above and run it in your terminal at the root directory of this project to start training. Running in terminal instead of Jupyter notebook would be able to see the training process and outputs clearly."
   ],
   "metadata": {}
  },
  {
   "cell_type": "markdown",
   "source": [
    "NOTE: Unless you really want to try to train this on your machine locally, it is highly recommended that you run the training in Google Colab **especially if** you don't have access to a good GPU."
   ],
   "metadata": {}
  },
  {
   "cell_type": "code",
   "execution_count": 17,
   "source": [
    "# our model checkpoints reside in this path\r\n",
    "paths['CHECKPOINT_PATH']"
   ],
   "outputs": [
    {
     "output_type": "execute_result",
     "data": {
      "text/plain": [
       "'Tensorflow\\\\workspace\\\\models\\\\my_ssd_mobnet'"
      ]
     },
     "metadata": {},
     "execution_count": 17
    }
   ],
   "metadata": {}
  },
  {
   "cell_type": "markdown",
   "source": [
    "# 7. Evaluate the Model"
   ],
   "metadata": {
    "id": "4_YRZu7npfDH"
   }
  },
  {
   "cell_type": "code",
   "execution_count": 15,
   "source": [
    "command = f\"python {TRAINING_SCRIPT} --model_dir={paths['CHECKPOINT_PATH']} --pipeline_config_path={files['PIPELINE_CONFIG']} --checkpoint_dir={paths['CHECKPOINT_PATH']}\"\r\n",
    "print(command)"
   ],
   "outputs": [
    {
     "output_type": "stream",
     "name": "stdout",
     "text": [
      "python Tensorflow\\models\\research\\object_detection\\model_main_tf2.py --model_dir=Tensorflow\\workspace\\models\\my_ssd_mobnet --pipeline_config_path=Tensorflow\\workspace\\models\\my_ssd_mobnet\\pipeline.config --checkpoint_dir=Tensorflow\\workspace\\models\\my_ssd_mobnet\n"
     ]
    }
   ],
   "metadata": {
    "id": "80L7-fdPpfDH"
   }
  },
  {
   "cell_type": "markdown",
   "source": [
    "Copy this command from the cell output above and run it in your terminal at the root directory of this project to evaluate the model. Running in terminal instead of Jupyter notebook would be able to see the process and outputs clearly."
   ],
   "metadata": {}
  },
  {
   "cell_type": "markdown",
   "source": [
    "# Zip and export the model to use it in other places or for deployment"
   ],
   "metadata": {
    "id": "5NQqZRdA21Uc"
   }
  },
  {
   "cell_type": "code",
   "execution_count": 14,
   "source": [
    "!tar -czf models.tar.gz {paths['CHECKPOINT_PATH']}"
   ],
   "outputs": [],
   "metadata": {
    "id": "tTVTGCQp2ZJJ"
   }
  },
  {
   "cell_type": "markdown",
   "source": [
    "The code cell below is used in Google Colab to download your model (only usable in Google Chrome). <br>\r\n",
    "If you are not using Chrome, then you will need to manually download it from the left panel of Google Colab"
   ],
   "metadata": {}
  },
  {
   "cell_type": "code",
   "execution_count": null,
   "source": [
    "# from google.colab import files\r\n",
    "# files.download('models.tar.gz')"
   ],
   "outputs": [],
   "metadata": {
    "colab": {
     "base_uri": "https://localhost:8080/"
    },
    "id": "whShhB0x3PYJ",
    "outputId": "b773201d-35c9-46a8-b893-4a76bd4d5d97"
   }
  },
  {
   "cell_type": "markdown",
   "source": [
    "# 8. Load Train Model From Checkpoint"
   ],
   "metadata": {
    "id": "orvRk02UpfDI"
   }
  },
  {
   "cell_type": "code",
   "execution_count": 21,
   "source": [
    "import os\r\n",
    "import tensorflow as tf\r\n",
    "from object_detection.utils import label_map_util\r\n",
    "from object_detection.utils import visualization_utils as viz_utils\r\n",
    "from object_detection.builders import model_builder\r\n",
    "from object_detection.utils import config_util"
   ],
   "outputs": [],
   "metadata": {
    "id": "8TYk4_oIpfDI"
   }
  },
  {
   "cell_type": "code",
   "execution_count": 17,
   "source": [
    "print(paths['CHECKPOINT_PATH'])\r\n",
    "checkpoints = [i for i in os.listdir(paths['CHECKPOINT_PATH']) if '.index' in i]\r\n",
    "final_ckpt = checkpoints[-1].split(\".\")[0]\r\n",
    "print(checkpoints)\r\n",
    "print(f\"{final_ckpt = }\")"
   ],
   "outputs": [
    {
     "output_type": "stream",
     "name": "stdout",
     "text": [
      "Tensorflow\\workspace\\models\\my_ssd_mobnet\n",
      "['ckpt-1.index', 'ckpt-2.index', 'ckpt-3.index', 'ckpt-4.index']\n",
      "final_ckpt = 'ckpt-4'\n"
     ]
    }
   ],
   "metadata": {}
  },
  {
   "cell_type": "code",
   "execution_count": 19,
   "source": [
    "# Load pipeline config and build a detection model\r\n",
    "configs = config_util.get_configs_from_pipeline_file(files['PIPELINE_CONFIG'])\r\n",
    "detection_model = model_builder.build(model_config=configs['model'], is_training=False)\r\n",
    "\r\n",
    "# Restore checkpoint\r\n",
    "ckpt = tf.compat.v2.train.Checkpoint(model=detection_model)\r\n",
    "# using the final checkpoint, you may change to any checkpoint you wish\r\n",
    "ckpt.restore(os.path.join(paths['CHECKPOINT_PATH'], final_ckpt)).expect_partial()\r\n",
    "\r\n",
    "@tf.function\r\n",
    "def detect_fn(image):\r\n",
    "    image, shapes = detection_model.preprocess(image)\r\n",
    "    prediction_dict = detection_model.predict(image, shapes)\r\n",
    "    detections = detection_model.postprocess(prediction_dict, shapes)\r\n",
    "    return detections"
   ],
   "outputs": [],
   "metadata": {
    "id": "tDnQg-cYpfDI"
   }
  },
  {
   "cell_type": "markdown",
   "source": [
    "# 9. Detect from an Image"
   ],
   "metadata": {
    "id": "0EmsmbBZpfDI"
   }
  },
  {
   "cell_type": "code",
   "execution_count": 20,
   "source": [
    "import cv2 \r\n",
    "import numpy as np\r\n",
    "from matplotlib import pyplot as plt\r\n",
    "%matplotlib inline"
   ],
   "outputs": [],
   "metadata": {
    "id": "Y_MKiuZ4pfDI"
   }
  },
  {
   "cell_type": "code",
   "execution_count": 22,
   "source": [
    "category_index = label_map_util.create_category_index_from_labelmap(files['LABELMAP'])"
   ],
   "outputs": [],
   "metadata": {
    "id": "cBDbIhNapfDI"
   }
  },
  {
   "cell_type": "code",
   "execution_count": 32,
   "source": [
    "from imutils.paths import list_images\r\n",
    "\r\n",
    "IMAGE_DIR = os.path.join(paths['IMAGE_PATH'], 'train')\r\n",
    "image_paths = list(list_images(IMAGE_DIR))\r\n",
    "\r\n",
    "IMAGE_PATH = np.random.choice(image_paths)\r\n",
    "IMAGE_PATH"
   ],
   "outputs": [
    {
     "output_type": "execute_result",
     "data": {
      "text/plain": [
       "'Tensorflow\\\\workspace\\\\images\\\\train\\\\IMG_3565_AILJ0cT.jpg'"
      ]
     },
     "metadata": {},
     "execution_count": 32
    }
   ],
   "metadata": {
    "id": "Lx3crOhOzITB"
   }
  },
  {
   "cell_type": "code",
   "execution_count": 33,
   "source": [
    "img = cv2.imread(IMAGE_PATH)\r\n",
    "image_np = np.array(img)\r\n",
    "\r\n",
    "input_tensor = tf.convert_to_tensor(np.expand_dims(image_np, 0), dtype=tf.float32)\r\n",
    "detections = detect_fn(input_tensor)\r\n",
    "\r\n",
    "num_detections = int(detections.pop('num_detections'))\r\n",
    "detections = {key: value[0, :num_detections].numpy()\r\n",
    "              for key, value in detections.items()}\r\n",
    "detections['num_detections'] = num_detections\r\n",
    "\r\n",
    "# detection_classes should be ints.\r\n",
    "detections['detection_classes'] = detections['detection_classes'].astype(np.int64)\r\n",
    "\r\n",
    "label_id_offset = 1\r\n",
    "image_np_with_detections = image_np.copy()\r\n",
    "\r\n",
    "viz_utils.visualize_boxes_and_labels_on_image_array(\r\n",
    "            image_np_with_detections,\r\n",
    "            detections['detection_boxes'],\r\n",
    "            detections['detection_classes']+label_id_offset,\r\n",
    "            detections['detection_scores'],\r\n",
    "            category_index,\r\n",
    "            use_normalized_coordinates=True,\r\n",
    "            max_boxes_to_draw=5,\r\n",
    "            min_score_thresh=.8,\r\n",
    "            agnostic_mode=False)\r\n",
    "\r\n",
    "plt.imshow(cv2.cvtColor(image_np_with_detections, cv2.COLOR_BGR2RGB))\r\n",
    "plt.show()"
   ],
   "outputs": [
    {
     "output_type": "display_data",
     "data": {
      "text/plain": [
       "<Figure size 432x288 with 1 Axes>"
      ],
      "image/svg+xml": "<?xml version=\"1.0\" encoding=\"utf-8\" standalone=\"no\"?>\r\n<!DOCTYPE svg PUBLIC \"-//W3C//DTD SVG 1.1//EN\"\r\n  \"http://www.w3.org/Graphics/SVG/1.1/DTD/svg11.dtd\">\r\n<svg height=\"252.290379pt\" version=\"1.1\" viewBox=\"0 0 221.387679 252.290379\" width=\"221.387679pt\" xmlns=\"http://www.w3.org/2000/svg\" xmlns:xlink=\"http://www.w3.org/1999/xlink\">\r\n <metadata>\r\n  <rdf:RDF xmlns:cc=\"http://creativecommons.org/ns#\" xmlns:dc=\"http://purl.org/dc/elements/1.1/\" xmlns:rdf=\"http://www.w3.org/1999/02/22-rdf-syntax-ns#\">\r\n   <cc:Work>\r\n    <dc:type rdf:resource=\"http://purl.org/dc/dcmitype/StillImage\"/>\r\n    <dc:date>2021-08-11T18:34:09.506395</dc:date>\r\n    <dc:format>image/svg+xml</dc:format>\r\n    <dc:creator>\r\n     <cc:Agent>\r\n      <dc:title>Matplotlib v3.4.2, https://matplotlib.org/</dc:title>\r\n     </cc:Agent>\r\n    </dc:creator>\r\n   </cc:Work>\r\n  </rdf:RDF>\r\n </metadata>\r\n <defs>\r\n  <style type=\"text/css\">*{stroke-linecap:butt;stroke-linejoin:round;}</style>\r\n </defs>\r\n <g id=\"figure_1\">\r\n  <g id=\"patch_1\">\r\n   <path d=\"M 0 252.290379 \r\nL 221.387679 252.290379 \r\nL 221.387679 0 \r\nL 0 0 \r\nz\r\n\" style=\"fill:none;\"/>\r\n  </g>\r\n  <g id=\"axes_1\">\r\n   <g id=\"patch_2\">\r\n    <path d=\"M 39.65 228.412254 \r\nL 202.73 228.412254 \r\nL 202.73 10.972254 \r\nL 39.65 10.972254 \r\nz\r\n\" style=\"fill:#ffffff;\"/>\r\n   </g>\r\n   <g clip-path=\"url(#p6d2c7329d2)\">\r\n    <image height=\"218\" id=\"image517a423a58\" transform=\"scale(1 -1)translate(0 -218)\" width=\"164\" x=\"39.65\" xlink:href=\"data:image/png;base64,\r\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\" y=\"-10.412254\"/>\r\n   </g>\r\n   <g id=\"matplotlib.axis_1\">\r\n    <g id=\"xtick_1\">\r\n     <g id=\"line2d_1\">\r\n      <defs>\r\n       <path d=\"M 0 0 \r\nL 0 3.5 \r\n\" id=\"m1b7bf58bc5\" style=\"stroke:#000000;stroke-width:0.8;\"/>\r\n      </defs>\r\n      <g>\r\n       <use style=\"stroke:#000000;stroke-width:0.8;\" x=\"39.676964\" xlink:href=\"#m1b7bf58bc5\" y=\"228.412254\"/>\r\n      </g>\r\n     </g>\r\n     <g id=\"text_1\">\r\n      <!-- 0 -->\r\n      <g transform=\"translate(36.495714 243.010692)scale(0.1 -0.1)\">\r\n       <defs>\r\n        <path d=\"M 2034 4250 \r\nQ 1547 4250 1301 3770 \r\nQ 1056 3291 1056 2328 \r\nQ 1056 1369 1301 889 \r\nQ 1547 409 2034 409 \r\nQ 2525 409 2770 889 \r\nQ 3016 1369 3016 2328 \r\nQ 3016 3291 2770 3770 \r\nQ 2525 4250 2034 4250 \r\nz\r\nM 2034 4750 \r\nQ 2819 4750 3233 4129 \r\nQ 3647 3509 3647 2328 \r\nQ 3647 1150 3233 529 \r\nQ 2819 -91 2034 -91 \r\nQ 1250 -91 836 529 \r\nQ 422 1150 422 2328 \r\nQ 422 3509 836 4129 \r\nQ 1250 4750 2034 4750 \r\nz\r\n\" id=\"DejaVuSans-30\" transform=\"scale(0.015625)\"/>\r\n       </defs>\r\n       <use xlink:href=\"#DejaVuSans-30\"/>\r\n      </g>\r\n     </g>\r\n    </g>\r\n    <g id=\"xtick_2\">\r\n     <g id=\"line2d_2\">\r\n      <g>\r\n       <use style=\"stroke:#000000;stroke-width:0.8;\" x=\"93.605536\" xlink:href=\"#m1b7bf58bc5\" y=\"228.412254\"/>\r\n      </g>\r\n     </g>\r\n     <g id=\"text_2\">\r\n      <!-- 1000 -->\r\n      <g transform=\"translate(80.880536 243.010692)scale(0.1 -0.1)\">\r\n       <defs>\r\n        <path d=\"M 794 531 \r\nL 1825 531 \r\nL 1825 4091 \r\nL 703 3866 \r\nL 703 4441 \r\nL 1819 4666 \r\nL 2450 4666 \r\nL 2450 531 \r\nL 3481 531 \r\nL 3481 0 \r\nL 794 0 \r\nL 794 531 \r\nz\r\n\" id=\"DejaVuSans-31\" transform=\"scale(0.015625)\"/>\r\n       </defs>\r\n       <use xlink:href=\"#DejaVuSans-31\"/>\r\n       <use x=\"63.623047\" xlink:href=\"#DejaVuSans-30\"/>\r\n       <use x=\"127.246094\" xlink:href=\"#DejaVuSans-30\"/>\r\n       <use x=\"190.869141\" xlink:href=\"#DejaVuSans-30\"/>\r\n      </g>\r\n     </g>\r\n    </g>\r\n    <g id=\"xtick_3\">\r\n     <g id=\"line2d_3\">\r\n      <g>\r\n       <use style=\"stroke:#000000;stroke-width:0.8;\" x=\"147.534107\" xlink:href=\"#m1b7bf58bc5\" y=\"228.412254\"/>\r\n      </g>\r\n     </g>\r\n     <g id=\"text_3\">\r\n      <!-- 2000 -->\r\n      <g transform=\"translate(134.809107 243.010692)scale(0.1 -0.1)\">\r\n       <defs>\r\n        <path d=\"M 1228 531 \r\nL 3431 531 \r\nL 3431 0 \r\nL 469 0 \r\nL 469 531 \r\nQ 828 903 1448 1529 \r\nQ 2069 2156 2228 2338 \r\nQ 2531 2678 2651 2914 \r\nQ 2772 3150 2772 3378 \r\nQ 2772 3750 2511 3984 \r\nQ 2250 4219 1831 4219 \r\nQ 1534 4219 1204 4116 \r\nQ 875 4013 500 3803 \r\nL 500 4441 \r\nQ 881 4594 1212 4672 \r\nQ 1544 4750 1819 4750 \r\nQ 2544 4750 2975 4387 \r\nQ 3406 4025 3406 3419 \r\nQ 3406 3131 3298 2873 \r\nQ 3191 2616 2906 2266 \r\nQ 2828 2175 2409 1742 \r\nQ 1991 1309 1228 531 \r\nz\r\n\" id=\"DejaVuSans-32\" transform=\"scale(0.015625)\"/>\r\n       </defs>\r\n       <use xlink:href=\"#DejaVuSans-32\"/>\r\n       <use x=\"63.623047\" xlink:href=\"#DejaVuSans-30\"/>\r\n       <use x=\"127.246094\" xlink:href=\"#DejaVuSans-30\"/>\r\n       <use x=\"190.869141\" xlink:href=\"#DejaVuSans-30\"/>\r\n      </g>\r\n     </g>\r\n    </g>\r\n    <g id=\"xtick_4\">\r\n     <g id=\"line2d_4\">\r\n      <g>\r\n       <use style=\"stroke:#000000;stroke-width:0.8;\" x=\"201.462679\" xlink:href=\"#m1b7bf58bc5\" y=\"228.412254\"/>\r\n      </g>\r\n     </g>\r\n     <g id=\"text_4\">\r\n      <!-- 3000 -->\r\n      <g transform=\"translate(188.737679 243.010692)scale(0.1 -0.1)\">\r\n       <defs>\r\n        <path d=\"M 2597 2516 \r\nQ 3050 2419 3304 2112 \r\nQ 3559 1806 3559 1356 \r\nQ 3559 666 3084 287 \r\nQ 2609 -91 1734 -91 \r\nQ 1441 -91 1130 -33 \r\nQ 819 25 488 141 \r\nL 488 750 \r\nQ 750 597 1062 519 \r\nQ 1375 441 1716 441 \r\nQ 2309 441 2620 675 \r\nQ 2931 909 2931 1356 \r\nQ 2931 1769 2642 2001 \r\nQ 2353 2234 1838 2234 \r\nL 1294 2234 \r\nL 1294 2753 \r\nL 1863 2753 \r\nQ 2328 2753 2575 2939 \r\nQ 2822 3125 2822 3475 \r\nQ 2822 3834 2567 4026 \r\nQ 2313 4219 1838 4219 \r\nQ 1578 4219 1281 4162 \r\nQ 984 4106 628 3988 \r\nL 628 4550 \r\nQ 988 4650 1302 4700 \r\nQ 1616 4750 1894 4750 \r\nQ 2613 4750 3031 4423 \r\nQ 3450 4097 3450 3541 \r\nQ 3450 3153 3228 2886 \r\nQ 3006 2619 2597 2516 \r\nz\r\n\" id=\"DejaVuSans-33\" transform=\"scale(0.015625)\"/>\r\n       </defs>\r\n       <use xlink:href=\"#DejaVuSans-33\"/>\r\n       <use x=\"63.623047\" xlink:href=\"#DejaVuSans-30\"/>\r\n       <use x=\"127.246094\" xlink:href=\"#DejaVuSans-30\"/>\r\n       <use x=\"190.869141\" xlink:href=\"#DejaVuSans-30\"/>\r\n      </g>\r\n     </g>\r\n    </g>\r\n   </g>\r\n   <g id=\"matplotlib.axis_2\">\r\n    <g id=\"ytick_1\">\r\n     <g id=\"line2d_5\">\r\n      <defs>\r\n       <path d=\"M 0 0 \r\nL -3.5 0 \r\n\" id=\"m9b1811db9c\" style=\"stroke:#000000;stroke-width:0.8;\"/>\r\n      </defs>\r\n      <g>\r\n       <use style=\"stroke:#000000;stroke-width:0.8;\" x=\"39.65\" xlink:href=\"#m9b1811db9c\" y=\"10.999219\"/>\r\n      </g>\r\n     </g>\r\n     <g id=\"text_5\">\r\n      <!-- 0 -->\r\n      <g transform=\"translate(26.2875 14.798438)scale(0.1 -0.1)\">\r\n       <use xlink:href=\"#DejaVuSans-30\"/>\r\n      </g>\r\n     </g>\r\n    </g>\r\n    <g id=\"ytick_2\">\r\n     <g id=\"line2d_6\">\r\n      <g>\r\n       <use style=\"stroke:#000000;stroke-width:0.8;\" x=\"39.65\" xlink:href=\"#m9b1811db9c\" y=\"37.963504\"/>\r\n      </g>\r\n     </g>\r\n     <g id=\"text_6\">\r\n      <!-- 500 -->\r\n      <g transform=\"translate(13.5625 41.762723)scale(0.1 -0.1)\">\r\n       <defs>\r\n        <path d=\"M 691 4666 \r\nL 3169 4666 \r\nL 3169 4134 \r\nL 1269 4134 \r\nL 1269 2991 \r\nQ 1406 3038 1543 3061 \r\nQ 1681 3084 1819 3084 \r\nQ 2600 3084 3056 2656 \r\nQ 3513 2228 3513 1497 \r\nQ 3513 744 3044 326 \r\nQ 2575 -91 1722 -91 \r\nQ 1428 -91 1123 -41 \r\nQ 819 9 494 109 \r\nL 494 744 \r\nQ 775 591 1075 516 \r\nQ 1375 441 1709 441 \r\nQ 2250 441 2565 725 \r\nQ 2881 1009 2881 1497 \r\nQ 2881 1984 2565 2268 \r\nQ 2250 2553 1709 2553 \r\nQ 1456 2553 1204 2497 \r\nQ 953 2441 691 2322 \r\nL 691 4666 \r\nz\r\n\" id=\"DejaVuSans-35\" transform=\"scale(0.015625)\"/>\r\n       </defs>\r\n       <use xlink:href=\"#DejaVuSans-35\"/>\r\n       <use x=\"63.623047\" xlink:href=\"#DejaVuSans-30\"/>\r\n       <use x=\"127.246094\" xlink:href=\"#DejaVuSans-30\"/>\r\n      </g>\r\n     </g>\r\n    </g>\r\n    <g id=\"ytick_3\">\r\n     <g id=\"line2d_7\">\r\n      <g>\r\n       <use style=\"stroke:#000000;stroke-width:0.8;\" x=\"39.65\" xlink:href=\"#m9b1811db9c\" y=\"64.92779\"/>\r\n      </g>\r\n     </g>\r\n     <g id=\"text_7\">\r\n      <!-- 1000 -->\r\n      <g transform=\"translate(7.2 68.727009)scale(0.1 -0.1)\">\r\n       <use xlink:href=\"#DejaVuSans-31\"/>\r\n       <use x=\"63.623047\" xlink:href=\"#DejaVuSans-30\"/>\r\n       <use x=\"127.246094\" xlink:href=\"#DejaVuSans-30\"/>\r\n       <use x=\"190.869141\" xlink:href=\"#DejaVuSans-30\"/>\r\n      </g>\r\n     </g>\r\n    </g>\r\n    <g id=\"ytick_4\">\r\n     <g id=\"line2d_8\">\r\n      <g>\r\n       <use style=\"stroke:#000000;stroke-width:0.8;\" x=\"39.65\" xlink:href=\"#m9b1811db9c\" y=\"91.892076\"/>\r\n      </g>\r\n     </g>\r\n     <g id=\"text_8\">\r\n      <!-- 1500 -->\r\n      <g transform=\"translate(7.2 95.691295)scale(0.1 -0.1)\">\r\n       <use xlink:href=\"#DejaVuSans-31\"/>\r\n       <use x=\"63.623047\" xlink:href=\"#DejaVuSans-35\"/>\r\n       <use x=\"127.246094\" xlink:href=\"#DejaVuSans-30\"/>\r\n       <use x=\"190.869141\" xlink:href=\"#DejaVuSans-30\"/>\r\n      </g>\r\n     </g>\r\n    </g>\r\n    <g id=\"ytick_5\">\r\n     <g id=\"line2d_9\">\r\n      <g>\r\n       <use style=\"stroke:#000000;stroke-width:0.8;\" x=\"39.65\" xlink:href=\"#m9b1811db9c\" y=\"118.856362\"/>\r\n      </g>\r\n     </g>\r\n     <g id=\"text_9\">\r\n      <!-- 2000 -->\r\n      <g transform=\"translate(7.2 122.65558)scale(0.1 -0.1)\">\r\n       <use xlink:href=\"#DejaVuSans-32\"/>\r\n       <use x=\"63.623047\" xlink:href=\"#DejaVuSans-30\"/>\r\n       <use x=\"127.246094\" xlink:href=\"#DejaVuSans-30\"/>\r\n       <use x=\"190.869141\" xlink:href=\"#DejaVuSans-30\"/>\r\n      </g>\r\n     </g>\r\n    </g>\r\n    <g id=\"ytick_6\">\r\n     <g id=\"line2d_10\">\r\n      <g>\r\n       <use style=\"stroke:#000000;stroke-width:0.8;\" x=\"39.65\" xlink:href=\"#m9b1811db9c\" y=\"145.820647\"/>\r\n      </g>\r\n     </g>\r\n     <g id=\"text_10\">\r\n      <!-- 2500 -->\r\n      <g transform=\"translate(7.2 149.619866)scale(0.1 -0.1)\">\r\n       <use xlink:href=\"#DejaVuSans-32\"/>\r\n       <use x=\"63.623047\" xlink:href=\"#DejaVuSans-35\"/>\r\n       <use x=\"127.246094\" xlink:href=\"#DejaVuSans-30\"/>\r\n       <use x=\"190.869141\" xlink:href=\"#DejaVuSans-30\"/>\r\n      </g>\r\n     </g>\r\n    </g>\r\n    <g id=\"ytick_7\">\r\n     <g id=\"line2d_11\">\r\n      <g>\r\n       <use style=\"stroke:#000000;stroke-width:0.8;\" x=\"39.65\" xlink:href=\"#m9b1811db9c\" y=\"172.784933\"/>\r\n      </g>\r\n     </g>\r\n     <g id=\"text_11\">\r\n      <!-- 3000 -->\r\n      <g transform=\"translate(7.2 176.584152)scale(0.1 -0.1)\">\r\n       <use xlink:href=\"#DejaVuSans-33\"/>\r\n       <use x=\"63.623047\" xlink:href=\"#DejaVuSans-30\"/>\r\n       <use x=\"127.246094\" xlink:href=\"#DejaVuSans-30\"/>\r\n       <use x=\"190.869141\" xlink:href=\"#DejaVuSans-30\"/>\r\n      </g>\r\n     </g>\r\n    </g>\r\n    <g id=\"ytick_8\">\r\n     <g id=\"line2d_12\">\r\n      <g>\r\n       <use style=\"stroke:#000000;stroke-width:0.8;\" x=\"39.65\" xlink:href=\"#m9b1811db9c\" y=\"199.749219\"/>\r\n      </g>\r\n     </g>\r\n     <g id=\"text_12\">\r\n      <!-- 3500 -->\r\n      <g transform=\"translate(7.2 203.548437)scale(0.1 -0.1)\">\r\n       <use xlink:href=\"#DejaVuSans-33\"/>\r\n       <use x=\"63.623047\" xlink:href=\"#DejaVuSans-35\"/>\r\n       <use x=\"127.246094\" xlink:href=\"#DejaVuSans-30\"/>\r\n       <use x=\"190.869141\" xlink:href=\"#DejaVuSans-30\"/>\r\n      </g>\r\n     </g>\r\n    </g>\r\n    <g id=\"ytick_9\">\r\n     <g id=\"line2d_13\">\r\n      <g>\r\n       <use style=\"stroke:#000000;stroke-width:0.8;\" x=\"39.65\" xlink:href=\"#m9b1811db9c\" y=\"226.713504\"/>\r\n      </g>\r\n     </g>\r\n     <g id=\"text_13\">\r\n      <!-- 4000 -->\r\n      <g transform=\"translate(7.2 230.512723)scale(0.1 -0.1)\">\r\n       <defs>\r\n        <path d=\"M 2419 4116 \r\nL 825 1625 \r\nL 2419 1625 \r\nL 2419 4116 \r\nz\r\nM 2253 4666 \r\nL 3047 4666 \r\nL 3047 1625 \r\nL 3713 1625 \r\nL 3713 1100 \r\nL 3047 1100 \r\nL 3047 0 \r\nL 2419 0 \r\nL 2419 1100 \r\nL 313 1100 \r\nL 313 1709 \r\nL 2253 4666 \r\nz\r\n\" id=\"DejaVuSans-34\" transform=\"scale(0.015625)\"/>\r\n       </defs>\r\n       <use xlink:href=\"#DejaVuSans-34\"/>\r\n       <use x=\"63.623047\" xlink:href=\"#DejaVuSans-30\"/>\r\n       <use x=\"127.246094\" xlink:href=\"#DejaVuSans-30\"/>\r\n       <use x=\"190.869141\" xlink:href=\"#DejaVuSans-30\"/>\r\n      </g>\r\n     </g>\r\n    </g>\r\n   </g>\r\n   <g id=\"patch_3\">\r\n    <path d=\"M 39.65 228.412254 \r\nL 39.65 10.972254 \r\n\" style=\"fill:none;stroke:#000000;stroke-linecap:square;stroke-linejoin:miter;stroke-width:0.8;\"/>\r\n   </g>\r\n   <g id=\"patch_4\">\r\n    <path d=\"M 202.73 228.412254 \r\nL 202.73 10.972254 \r\n\" style=\"fill:none;stroke:#000000;stroke-linecap:square;stroke-linejoin:miter;stroke-width:0.8;\"/>\r\n   </g>\r\n   <g id=\"patch_5\">\r\n    <path d=\"M 39.65 228.412254 \r\nL 202.73 228.412254 \r\n\" style=\"fill:none;stroke:#000000;stroke-linecap:square;stroke-linejoin:miter;stroke-width:0.8;\"/>\r\n   </g>\r\n   <g id=\"patch_6\">\r\n    <path d=\"M 39.65 10.972254 \r\nL 202.73 10.972254 \r\n\" style=\"fill:none;stroke:#000000;stroke-linecap:square;stroke-linejoin:miter;stroke-width:0.8;\"/>\r\n   </g>\r\n  </g>\r\n </g>\r\n <defs>\r\n  <clipPath id=\"p6d2c7329d2\">\r\n   <rect height=\"217.44\" width=\"163.08\" x=\"39.65\" y=\"10.972254\"/>\r\n  </clipPath>\r\n </defs>\r\n</svg>\r\n",
      "image/png": "[encoded data removed]"
     },
     "metadata": {
      "needs_background": "light"
     }
    }
   ],
   "metadata": {
    "colab": {
     "base_uri": "https://localhost:8080/",
     "height": 269
    },
    "id": "Tpzn1SMry1yK",
    "outputId": "c392a2c5-10fe-4fc4-9998-a1d4c7db2bd3"
   }
  },
  {
   "cell_type": "markdown",
   "source": [
    "# 10. Real Time Detections from your Webcam"
   ],
   "metadata": {
    "id": "IsNAaYAo0WVL"
   }
  },
  {
   "cell_type": "code",
   "execution_count": null,
   "source": [
    "# !pip uninstall opencv-python-headless -y"
   ],
   "outputs": [],
   "metadata": {}
  },
  {
   "cell_type": "code",
   "execution_count": null,
   "source": [
    "cap = cv2.VideoCapture(0)\r\n",
    "width = int(cap.get(cv2.CAP_PROP_FRAME_WIDTH))\r\n",
    "height = int(cap.get(cv2.CAP_PROP_FRAME_HEIGHT))\r\n",
    "\r\n",
    "while cap.isOpened(): \r\n",
    "    ret, frame = cap.read()\r\n",
    "    image_np = np.array(frame)\r\n",
    "    \r\n",
    "    input_tensor = tf.convert_to_tensor(np.expand_dims(image_np, 0), dtype=tf.float32)\r\n",
    "    detections = detect_fn(input_tensor)\r\n",
    "    \r\n",
    "    num_detections = int(detections.pop('num_detections'))\r\n",
    "    detections = {key: value[0, :num_detections].numpy()\r\n",
    "                  for key, value in detections.items()}\r\n",
    "    detections['num_detections'] = num_detections\r\n",
    "\r\n",
    "    # detection_classes should be ints.\r\n",
    "    detections['detection_classes'] = detections['detection_classes'].astype(np.int64)\r\n",
    "\r\n",
    "    label_id_offset = 1\r\n",
    "    image_np_with_detections = image_np.copy()\r\n",
    "\r\n",
    "    viz_utils.visualize_boxes_and_labels_on_image_array(\r\n",
    "                image_np_with_detections,\r\n",
    "                detections['detection_boxes'],\r\n",
    "                detections['detection_classes']+label_id_offset,\r\n",
    "                detections['detection_scores'],\r\n",
    "                category_index,\r\n",
    "                use_normalized_coordinates=True,\r\n",
    "                max_boxes_to_draw=5,\r\n",
    "                min_score_thresh=.8,\r\n",
    "                agnostic_mode=False)\r\n",
    "\r\n",
    "    cv2.imshow('object detection',  cv2.resize(image_np_with_detections, (800, 600)))\r\n",
    "    \r\n",
    "    if cv2.waitKey(10) & 0xFF == ord('q'):\r\n",
    "        cap.release()\r\n",
    "        cv2.destroyAllWindows()\r\n",
    "        break"
   ],
   "outputs": [],
   "metadata": {
    "id": "o_grs6OGpfDJ"
   }
  },
  {
   "cell_type": "markdown",
   "source": [
    "# 10. Freezing the Graph"
   ],
   "metadata": {
    "id": "rzlM4jt0pfDJ"
   }
  },
  {
   "cell_type": "code",
   "execution_count": null,
   "source": [
    "FREEZE_SCRIPT = os.path.join(paths['APIMODEL_PATH'], 'research', 'object_detection', 'exporter_main_v2.py ')"
   ],
   "outputs": [],
   "metadata": {
    "id": "n4olHB2npfDJ"
   }
  },
  {
   "cell_type": "code",
   "execution_count": null,
   "source": [
    "command = \"python {} --input_type=image_tensor --pipeline_config_path={} --trained_checkpoint_dir={} --output_directory={}\".format(FREEZE_SCRIPT ,files['PIPELINE_CONFIG'], paths['CHECKPOINT_PATH'], paths['OUTPUT_PATH'])"
   ],
   "outputs": [],
   "metadata": {
    "id": "0AjO93QDpfDJ"
   }
  },
  {
   "cell_type": "code",
   "execution_count": null,
   "source": [
    "print(command)"
   ],
   "outputs": [],
   "metadata": {
    "colab": {
     "base_uri": "https://localhost:8080/"
    },
    "id": "F6Lsp3tCpfDJ",
    "outputId": "c3828529-bf06-4df5-d7f3-145890ec3edd"
   }
  },
  {
   "cell_type": "code",
   "execution_count": null,
   "source": [
    "!{command}"
   ],
   "outputs": [],
   "metadata": {
    "colab": {
     "base_uri": "https://localhost:8080/"
    },
    "id": "1Sw1ULgHpfDJ",
    "outputId": "6fd441e1-9fc9-4889-d072-3395c21e40b6"
   }
  },
  {
   "cell_type": "markdown",
   "source": [
    "# 11. Conversion to TFJS"
   ],
   "metadata": {
    "id": "wTPmdqaXpfDK"
   }
  },
  {
   "cell_type": "code",
   "execution_count": null,
   "source": [
    "!pip install tensorflowjs"
   ],
   "outputs": [],
   "metadata": {
    "colab": {
     "base_uri": "https://localhost:8080/"
    },
    "id": "gZ6UzY_fpfDK",
    "outputId": "0c84722e-1c2b-4002-d857-80827ade828a",
    "scrolled": true
   }
  },
  {
   "cell_type": "code",
   "execution_count": null,
   "source": [
    "command = \"tensorflowjs_converter --input_format=tf_saved_model --output_node_names='detection_boxes,detection_classes,detection_features,detection_multiclass_scores,detection_scores,num_detections,raw_detection_boxes,raw_detection_scores' --output_format=tfjs_graph_model --signature_name=serving_default {} {}\".format(os.path.join(paths['OUTPUT_PATH'], 'saved_model'), paths['TFJS_PATH'])"
   ],
   "outputs": [],
   "metadata": {
    "id": "0oxbVynHpfDK"
   }
  },
  {
   "cell_type": "code",
   "execution_count": null,
   "source": [
    "print(command)"
   ],
   "outputs": [],
   "metadata": {
    "colab": {
     "base_uri": "https://localhost:8080/"
    },
    "id": "DB2AGNmJpfDK",
    "outputId": "fbc9f747-f511-47e8-df8f-5ea65cef0374"
   }
  },
  {
   "cell_type": "code",
   "execution_count": null,
   "source": [
    "!{command}"
   ],
   "outputs": [],
   "metadata": {
    "colab": {
     "base_uri": "https://localhost:8080/"
    },
    "id": "K7rfT4-hpfDK",
    "outputId": "532707fd-6feb-4bc6-84a3-325b5d16303c"
   }
  },
  {
   "cell_type": "code",
   "execution_count": null,
   "source": [
    "# Test Code: https://github.com/nicknochnack/RealTimeSignLanguageDetectionwithTFJS"
   ],
   "outputs": [],
   "metadata": {
    "id": "o8_hm-itpfDK"
   }
  },
  {
   "cell_type": "markdown",
   "source": [
    "# 12. Conversion to TFLite"
   ],
   "metadata": {
    "id": "VtUw73FHpfDK"
   }
  },
  {
   "cell_type": "code",
   "execution_count": null,
   "source": [
    "TFLITE_SCRIPT = os.path.join(paths['APIMODEL_PATH'], 'research', 'object_detection', 'export_tflite_graph_tf2.py ')"
   ],
   "outputs": [],
   "metadata": {
    "id": "XviMtewLpfDK"
   }
  },
  {
   "cell_type": "code",
   "execution_count": null,
   "source": [
    "command = \"python {} --pipeline_config_path={} --trained_checkpoint_dir={} --output_directory={}\".format(TFLITE_SCRIPT ,files['PIPELINE_CONFIG'], paths['CHECKPOINT_PATH'], paths['TFLITE_PATH'])"
   ],
   "outputs": [],
   "metadata": {
    "id": "us86cjC4pfDL"
   }
  },
  {
   "cell_type": "code",
   "execution_count": null,
   "source": [
    "print(command)"
   ],
   "outputs": [],
   "metadata": {
    "colab": {
     "base_uri": "https://localhost:8080/"
    },
    "id": "n1r5YO3rpfDL",
    "outputId": "5fcdf7a4-eee2-4365-f1ca-1751968379ea"
   }
  },
  {
   "cell_type": "code",
   "execution_count": null,
   "source": [
    "!{command}"
   ],
   "outputs": [],
   "metadata": {
    "colab": {
     "base_uri": "https://localhost:8080/"
    },
    "id": "I-xWpHN8pfDL",
    "outputId": "7f6bacd8-d077-43b5-c131-5b081fba24a4"
   }
  },
  {
   "cell_type": "code",
   "execution_count": null,
   "source": [
    "FROZEN_TFLITE_PATH = os.path.join(paths['TFLITE_PATH'], 'saved_model')\r\n",
    "TFLITE_MODEL = os.path.join(paths['TFLITE_PATH'], 'saved_model', 'detect.tflite')"
   ],
   "outputs": [],
   "metadata": {
    "id": "iJfYMbN6pfDL"
   }
  },
  {
   "cell_type": "code",
   "execution_count": null,
   "source": [
    "command = \"tflite_convert \\\r\n",
    "--saved_model_dir={} \\\r\n",
    "--output_file={} \\\r\n",
    "--input_shapes=1,300,300,3 \\\r\n",
    "--input_arrays=normalized_input_image_tensor \\\r\n",
    "--output_arrays='TFLite_Detection_PostProcess','TFLite_Detection_PostProcess:1','TFLite_Detection_PostProcess:2','TFLite_Detection_PostProcess:3' \\\r\n",
    "--inference_type=FLOAT \\\r\n",
    "--allow_custom_ops\".format(FROZEN_TFLITE_PATH, TFLITE_MODEL, )"
   ],
   "outputs": [],
   "metadata": {}
  },
  {
   "cell_type": "code",
   "execution_count": null,
   "source": [
    "print(command)"
   ],
   "outputs": [],
   "metadata": {
    "colab": {
     "base_uri": "https://localhost:8080/"
    },
    "id": "E8GwUeoFpfDL",
    "outputId": "fac43ea4-cc85-471b-a362-e994b06fd583"
   }
  },
  {
   "cell_type": "code",
   "execution_count": null,
   "source": [
    "!{command}"
   ],
   "outputs": [],
   "metadata": {
    "colab": {
     "base_uri": "https://localhost:8080/"
    },
    "id": "Nbd7gqHMpfDL",
    "outputId": "7c8fe6d5-2415-4641-8548-39d425c202f7"
   }
  }
 ],
 "metadata": {
  "accelerator": "GPU",
  "colab": {
   "name": "3. Training and Detection.ipynb",
   "provenance": []
  },
  "interpreter": {
   "hash": "8ece60ddf05e2bb1a3a95dc6d6135ea35551fa72f2095c0fd3feb56b01070d12"
  },
  "kernelspec": {
   "name": "python3",
   "display_name": "Python 3.8.11 64-bit ('tfod': conda)"
  },
  "language_info": {
   "codemirror_mode": {
    "name": "ipython",
    "version": 3
   },
   "file_extension": ".py",
   "mimetype": "text/x-python",
   "name": "python",
   "nbconvert_exporter": "python",
   "pygments_lexer": "ipython3",
   "version": "3.8.11"
  }
 },
 "nbformat": 4,
 "nbformat_minor": 4
}